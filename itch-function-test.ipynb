{
 "cells": [
  {
   "cell_type": "code",
   "execution_count": 38,
   "metadata": {},
   "outputs": [],
   "source": [
    "import os\n",
    "import magonote_functions as mf\n",
    "import random\n",
    "import pandas as pd\n",
    "import numpy as np"
   ]
  },
  {
   "cell_type": "markdown",
   "metadata": {},
   "source": [
    "### game page parser test"
   ]
  },
  {
   "cell_type": "code",
   "execution_count": 39,
   "metadata": {},
   "outputs": [
    {
     "data": {
      "text/plain": [
       "95663"
      ]
     },
     "execution_count": 39,
     "metadata": {},
     "output_type": "execute_result"
    }
   ],
   "source": [
    "# ok we're assuming we have all the game data fetched already, and it's in html/post_pages\n",
    "\n",
    "game_page_dir = \"html/game_pages\"\n",
    "\n",
    "game_list = [x for x in os.listdir(game_page_dir) if x[-5:] == \".html\"]\n",
    "random.shuffle(game_list)\n",
    "partial_game_list = game_list[:100]\n",
    "random_game = int(partial_game_list[13][:-5])\n",
    "random_game"
   ]
  },
  {
   "cell_type": "code",
   "execution_count": 40,
   "metadata": {},
   "outputs": [],
   "source": [
    "# this will take a while for a lot of files (> 1000)\n",
    "temp_game_list = mf.get_game_info(partial_game_list, game_page_dir)"
   ]
  },
  {
   "cell_type": "code",
   "execution_count": 41,
   "metadata": {},
   "outputs": [],
   "source": [
    "game_cols = ['title text', 'creator text','creator url','game url', 'full text']\n",
    "game_info_df = pd.DataFrame(columns=game_cols)\n",
    "# this also takes a while for a lot of entries\n",
    "for item in temp_game_list:\n",
    "    pid = item[0]\n",
    "    game_info_df.loc[pid] = [item[1],item[2],item[3],item[4],item[5]]"
   ]
  },
  {
   "cell_type": "code",
   "execution_count": 42,
   "metadata": {},
   "outputs": [],
   "source": [
    "game_csv_name = 'data/post_info.csv'\n",
    "game_info_df.to_csv(game_csv_name, sep='\\t', encoding='utf-8')"
   ]
  },
  {
   "cell_type": "markdown",
   "metadata": {},
   "source": [
    "### post page parser test"
   ]
  },
  {
   "cell_type": "code",
   "execution_count": null,
   "metadata": {},
   "outputs": [],
   "source": [
    "# ok we're assuming we have all the post data fetched already, and it's in html/post_pages\n",
    "\n",
    "post_page_dir = \"html/post_pages\"\n",
    "\n",
    "post_list = [x for x in os.listdir(post_page_dir) if x[-5:] == \".html\"]\n",
    "random.shuffle(post_list)\n",
    "single_post = post_list[13]\n",
    "\n",
    "len(post_list)"
   ]
  },
  {
   "cell_type": "code",
   "execution_count": null,
   "metadata": {},
   "outputs": [],
   "source": [
    "# ok looks good so far\n",
    "\n",
    "partial_post_list = post_list[:1000]"
   ]
  },
  {
   "cell_type": "code",
   "execution_count": null,
   "metadata": {},
   "outputs": [],
   "source": [
    "# this will take a while for a lot of files (> 1000)\n",
    "# temp_list = mf.get_post_info(partial_post_list, post_page_dir)"
   ]
  },
  {
   "cell_type": "code",
   "execution_count": null,
   "metadata": {},
   "outputs": [],
   "source": [
    "# temp_list"
   ]
  },
  {
   "cell_type": "code",
   "execution_count": null,
   "metadata": {},
   "outputs": [],
   "source": [
    "cols = ['trail anchor count', 'trail anchor zero', 'post div count','d0 length','d0 spans', 'user span', 'date span']\n",
    "post_info_df = pd.DataFrame(columns=cols)"
   ]
  },
  {
   "cell_type": "code",
   "execution_count": null,
   "metadata": {},
   "outputs": [],
   "source": [
    "# this also takes a while for a lot of entries\n",
    "# for item in temp_list:\n",
    "#     pid = item[0]\n",
    "#     post_info_df.loc[pid] = [item[1],item[2],item[3],item[4],item[5],item[6],item[7]]"
   ]
  },
  {
   "cell_type": "code",
   "execution_count": null,
   "metadata": {},
   "outputs": [],
   "source": [
    "# post_info_df"
   ]
  },
  {
   "cell_type": "code",
   "execution_count": null,
   "metadata": {},
   "outputs": [],
   "source": [
    "# pickle choked, not sure why. csv it is then.\n",
    "\n",
    "# csv_name = 'data/post_info.csv'\n",
    "# post_info_df.to_csv(csv_name, sep='\\t', encoding='utf-8')"
   ]
  },
  {
   "cell_type": "code",
   "execution_count": null,
   "metadata": {},
   "outputs": [],
   "source": []
  },
  {
   "cell_type": "code",
   "execution_count": null,
   "metadata": {},
   "outputs": [],
   "source": []
  }
 ],
 "metadata": {
  "kernelspec": {
   "display_name": "Python 3",
   "language": "python",
   "name": "python3"
  },
  "language_info": {
   "codemirror_mode": {
    "name": "ipython",
    "version": 3
   },
   "file_extension": ".py",
   "mimetype": "text/x-python",
   "name": "python",
   "nbconvert_exporter": "python",
   "pygments_lexer": "ipython3",
   "version": "3.6.4"
  }
 },
 "nbformat": 4,
 "nbformat_minor": 2
}
