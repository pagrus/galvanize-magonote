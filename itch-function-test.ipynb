{
 "cells": [
  {
   "cell_type": "code",
   "execution_count": 1,
   "metadata": {},
   "outputs": [],
   "source": [
    "import os\n",
    "import magonote_functions as mf\n",
    "import random\n",
    "import pandas as pd\n",
    "import numpy as np"
   ]
  },
  {
   "cell_type": "code",
   "execution_count": 6,
   "metadata": {},
   "outputs": [
    {
     "data": {
      "text/plain": [
       "261296"
      ]
     },
     "execution_count": 6,
     "metadata": {},
     "output_type": "execute_result"
    }
   ],
   "source": [
    "# ok we're assuming we have all the post data fetched already, and it's in html/post_pages\n",
    "\n",
    "post_page_dir = \"html/post_pages\"\n",
    "\n",
    "post_list = [x for x in os.listdir(post_page_dir) if x[-5:] == \".html\"]\n",
    "random.shuffle(post_list)\n",
    "single_post = post_list[13]\n",
    "\n",
    "len(post_list)"
   ]
  },
  {
   "cell_type": "code",
   "execution_count": 7,
   "metadata": {},
   "outputs": [],
   "source": [
    "# ok looks good so far\n",
    "\n",
    "partial_post_list = post_list[11113:11126]"
   ]
  },
  {
   "cell_type": "code",
   "execution_count": 8,
   "metadata": {},
   "outputs": [],
   "source": [
    "temp_list = mf.get_post_info(partial_post_list, post_page_dir)"
   ]
  },
  {
   "cell_type": "code",
   "execution_count": 9,
   "metadata": {},
   "outputs": [
    {
     "data": {
      "text/plain": [
       "[(151890, 0, 0, 'zilcho'),\n",
       " (244694, 0, 0, 'zilcho'),\n",
       " (145614,\n",
       "  5,\n",
       "  3,\n",
       "  <div class=\"post_content\"><div class=\"post_header\"><a class=\"avatar_container\" href=\"/profile/creeperpediayt\"><div class=\"post_avatar\" style=\"background-image: url(https://img.itch.zone/aW1hZ2UyL3VzZXIvMzU2NTcyLzExNTEzNDAuanBn/80x80%23/b2ufFR.jpg)\"></div></a><div class=\"post_header_content\"><span class=\"post_author\"><a href=\"/profile/creeperpediayt\">CreeperPediaYT</a></span><span class=\"post_date\" title=\"2017-04-13 16:39:00\"><a href=\"/post/145614\">1 year ago</a></span><span class=\"vote_counts\"></span></div></div><div class=\"post_body user_formatted\"><p>OOOH! maybe add a plant species log? you know you have the creature species log, why not add one for plants? just incase you get bored waiting for your creature species to evolve in the lite version -_-</p></div><div class=\"post_footer\"><a class=\"post_action reply_btn\" data-register_action=\"community_reply\" href=\"/login?return_to=https%3A%2F%2Fitch.io%2Fpost%2F145614&amp;intent=community\">Reply</a></div></div>),\n",
       " (103628,\n",
       "  1,\n",
       "  3,\n",
       "  <div class=\"post_content\"><div class=\"post_header\"><a class=\"avatar_container\" href=\"/profile/madgarden\"><div class=\"post_avatar\" style=\"background-image: url(https://img.itch.zone/aW1hZ2UyL3VzZXIvNTY0Lzg4NTM0LnBuZw==/80x80%23/ZFEtjn.png)\"></div></a><div class=\"post_header_content\"><span class=\"post_author\"><a href=\"/profile/madgarden\">Madgarden</a></span><span class=\"post_date\" title=\"2017-01-20 16:10:59\"><a href=\"/post/103628\">1 year ago</a></span><span class=\"vote_counts\"></span></div></div><div class=\"post_body user_formatted\"><p>I'm pretty oldschool by today's standards... I program in C, and use SDL2 for windowing and input and such, OpenGL for graphics. If you're a total beginner then something like Unity or Game Maker is a good choice.</p></div><div class=\"post_footer\"><a class=\"post_action reply_btn\" data-register_action=\"community_reply\" href=\"/login?return_to=https%3A%2F%2Fitch.io%2Fpost%2F103628&amp;intent=community\">Reply</a></div></div>),\n",
       " (212244,\n",
       "  1,\n",
       "  5,\n",
       "  <div class=\"post_content\"><div class=\"post_header\"><a class=\"avatar_container\" href=\"/profile/hypnotic\"><div class=\"post_avatar\" style=\"background-image: url(https://img.itch.zone/aW1hZ2UyL3VzZXIvMTAyODIxLzIxODU4Ny5wbmc=/80x80%23/uT4tCo.png)\"></div></a><div class=\"post_header_content\"><span class=\"post_author\"><a href=\"/profile/hypnotic\">hypnotic</a></span><span class=\"post_date\" title=\"2017-02-26 04:44:52\"><a href=\"/post/212244\">1 year ago</a></span><span class=\"vote_counts\"></span></div></div><div class=\"post_body user_formatted\"><p>The ragdoll antics had me in stitches. Did you create all the 3D models?<br/>I tried for quite some time to beat my very first attempt, but couldn't do so for some reason.<br/>It must have been beginners luck!</p></div><div class=\"post_footer\"><a class=\"post_action vote_btn\" data-register_action=\"community_vote\" href=\"/login?return_to=https%3A%2F%2Fitch.io%2Fpost%2F212244&amp;intent=community\"><span class=\"icon-like\"></span><span class=\"like_text\"> Like</span></a><a class=\"post_action reply_btn\" data-register_action=\"community_reply\" href=\"/login?return_to=https%3A%2F%2Fitch.io%2Fpost%2F212244&amp;intent=community\">Reply</a></div></div>),\n",
       " (135458,\n",
       "  1,\n",
       "  3,\n",
       "  <div class=\"post_content\"><div class=\"post_header\"><a class=\"avatar_container\" href=\"/profile/popey\"><div class=\"post_avatar\" style=\"background-image: url(https://img.itch.zone/aW1hZ2UyL3VzZXIvMzA1MjgvNTg0NzQ5LnBuZw==/80x80%23/7L4kvy.png)\"></div></a><div class=\"post_header_content\"><span class=\"post_author\"><a href=\"/profile/popey\">Alan Pope</a></span><span class=\"post_date\" title=\"2017-03-21 18:16:01\"><a href=\"/post/135458\">1 year ago</a></span><span class=\"vote_counts\"></span></div></div><div class=\"post_body user_formatted\"><p>I haven't tried to learn Godot, but it's on my list to look at. I found LOVE very straightforward to pick up, mainly because there is good documentation, and due to the nature of it, you can rummage around in other people's public .love files to learn from them.</p></div><div class=\"post_footer\"><a class=\"post_action reply_btn\" data-register_action=\"community_reply\" href=\"/login?return_to=https%3A%2F%2Fitch.io%2Fpost%2F135458&amp;intent=community\">Reply</a></div></div>),\n",
       " (15356,\n",
       "  4,\n",
       "  5,\n",
       "  <div class=\"post_content\"><div class=\"post_header\"><a class=\"avatar_container\" href=\"/profile/lyubomirv\"><div class=\"post_avatar\" style=\"background-image: url(/static/images/frog-gold.png)\"></div></a><div class=\"post_header_content\"><span class=\"post_author\"><a href=\"/profile/lyubomirv\">lyubomirv</a></span><span class=\"post_date\" title=\"2016-03-02 06:49:31\"><a href=\"/post/15356\">2 years ago</a></span><span class=\"vote_counts\"></span></div></div><div class=\"post_body user_formatted\"><p>But there are no other translators for Bulgarian. Who's going to 'vet' them?</p></div><div class=\"post_footer\"><a class=\"post_action vote_btn\" data-register_action=\"community_vote\" href=\"/login?return_to=https%3A%2F%2Fitch.io%2Fpost%2F15356&amp;intent=community\"><span class=\"icon-like\"></span><span class=\"like_text\"> Like</span></a><a class=\"post_action reply_btn\" data-register_action=\"community_reply\" href=\"/login?return_to=https%3A%2F%2Fitch.io%2Fpost%2F15356&amp;intent=community\">Reply</a></div></div>),\n",
       " (239243,\n",
       "  1,\n",
       "  3,\n",
       "  <div class=\"post_content\"><div class=\"post_header\"><a class=\"avatar_container\" href=\"/profile/rc0d3\"><div class=\"post_avatar\" style=\"background-image: url(/static/images/frog-red.png)\"></div></a><div class=\"post_header_content\"><span class=\"post_author\"><a href=\"/profile/rc0d3\">RC0D3</a></span><span class=\"post_date\" title=\"2017-07-23 18:47:55\"><a href=\"/post/239243\">279 days ago</a></span><span class=\"vote_counts\"></span></div></div><div class=\"post_body user_formatted\"><p>no is cool '-'</p></div><div class=\"post_footer\"><a class=\"post_action reply_btn\" data-register_action=\"community_reply\" href=\"/login?return_to=https%3A%2F%2Fitch.io%2Fpost%2F239243&amp;intent=community\">Reply</a></div></div>),\n",
       " (233163, 0, 0, 'zilcho'),\n",
       " (86030, 0, 0, 'zilcho'),\n",
       " (5173,\n",
       "  1,\n",
       "  3,\n",
       "  <div class=\"post_content\"><div class=\"post_header\"><a class=\"avatar_container\" href=\"/profile/dto\"><div class=\"post_avatar\" style=\"background-image: url(https://img.itch.zone/aW1hZ2UyL3VzZXIvMzA1MDQvNjAzNjE4LnBuZw==/80x80%23/PKdizB.png)\"></div></a><div class=\"post_header_content\"><span class=\"post_author\"><a href=\"/profile/dto\">dto</a></span><span class=\"post_date\" title=\"2015-12-10 14:37:22\"><a href=\"/jam/january-2016-lisp-game-jam/topic/10858/introductions\">2 years ago</a></span><span class=\"vote_counts\"></span></div></div><div class=\"post_body user_formatted\"><p>Tell us a little something about yourself!<br/></p></div><div class=\"post_footer\"><a class=\"post_action reply_btn\" data-register_action=\"community_reply\" href=\"/login?return_to=https%3A%2F%2Fitch.io%2Fpost%2F5173&amp;intent=community\">Reply</a></div></div>),\n",
       " (109501, 0, 0, 'zilcho'),\n",
       " (46170, 0, 0, 'zilcho')]"
      ]
     },
     "execution_count": 9,
     "metadata": {},
     "output_type": "execute_result"
    }
   ],
   "source": [
    "temp_list"
   ]
  },
  {
   "cell_type": "code",
   "execution_count": null,
   "metadata": {},
   "outputs": [],
   "source": []
  }
 ],
 "metadata": {
  "kernelspec": {
   "display_name": "Python 3",
   "language": "python",
   "name": "python3"
  },
  "language_info": {
   "codemirror_mode": {
    "name": "ipython",
    "version": 3
   },
   "file_extension": ".py",
   "mimetype": "text/x-python",
   "name": "python",
   "nbconvert_exporter": "python",
   "pygments_lexer": "ipython3",
   "version": "3.6.4"
  }
 },
 "nbformat": 4,
 "nbformat_minor": 2
}
