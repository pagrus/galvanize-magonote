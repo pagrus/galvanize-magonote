{
 "cells": [
  {
   "cell_type": "code",
   "execution_count": 1,
   "metadata": {},
   "outputs": [],
   "source": [
    "import os\n",
    "import magonote_functions as mf\n",
    "import random\n",
    "import pandas as pd\n",
    "import numpy as np"
   ]
  },
  {
   "cell_type": "code",
   "execution_count": 2,
   "metadata": {},
   "outputs": [
    {
     "data": {
      "text/plain": [
       "259640"
      ]
     },
     "execution_count": 2,
     "metadata": {},
     "output_type": "execute_result"
    }
   ],
   "source": [
    "# ok we're assuming we have all the post data fetched already, and it's in html/post_pages\n",
    "\n",
    "post_page_dir = \"html/post_pages\"\n",
    "\n",
    "post_list = [x for x in os.listdir(post_page_dir) if x[-5:] == \".html\"]\n",
    "random.shuffle(post_list)\n",
    "single_post = post_list[13]\n",
    "\n",
    "len(post_list)"
   ]
  },
  {
   "cell_type": "code",
   "execution_count": 3,
   "metadata": {},
   "outputs": [],
   "source": [
    "# ok looks good so far\n",
    "\n",
    "partial_post_list = post_list[11113:11126]"
   ]
  },
  {
   "cell_type": "code",
   "execution_count": 5,
   "metadata": {},
   "outputs": [],
   "source": [
    "temp_list = mf.get_post_info(partial_post_list, post_page_dir)"
   ]
  },
  {
   "cell_type": "code",
   "execution_count": 6,
   "metadata": {},
   "outputs": [
    {
     "data": {
      "text/plain": [
       "[(13280, 'urg urg'),\n",
       " (207050, 'urg urg'),\n",
       " (14944, 'urg urg'),\n",
       " (37290, 'urg urg'),\n",
       " (74244, 'urg urg'),\n",
       " (209936, 'urg urg'),\n",
       " (25948, 'urg urg'),\n",
       " (155727, 'urg urg'),\n",
       " (70957, 'urg urg'),\n",
       " (242228, 'urg urg'),\n",
       " (56188, 'urg urg'),\n",
       " (135573, 'urg urg'),\n",
       " (220771, 'urg urg')]"
      ]
     },
     "execution_count": 6,
     "metadata": {},
     "output_type": "execute_result"
    }
   ],
   "source": [
    "temp_list"
   ]
  },
  {
   "cell_type": "code",
   "execution_count": null,
   "metadata": {},
   "outputs": [],
   "source": []
  }
 ],
 "metadata": {
  "kernelspec": {
   "display_name": "Python 3",
   "language": "python",
   "name": "python3"
  },
  "language_info": {
   "codemirror_mode": {
    "name": "ipython",
    "version": 3
   },
   "file_extension": ".py",
   "mimetype": "text/x-python",
   "name": "python",
   "nbconvert_exporter": "python",
   "pygments_lexer": "ipython3",
   "version": "3.6.4"
  }
 },
 "nbformat": 4,
 "nbformat_minor": 2
}
