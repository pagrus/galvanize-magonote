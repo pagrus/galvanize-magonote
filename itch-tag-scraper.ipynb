{
 "cells": [
  {
   "cell_type": "code",
   "execution_count": 1,
   "metadata": {},
   "outputs": [],
   "source": [
    "import os\n",
    "import magonote_functions as mf\n",
    "import random\n",
    "import pandas as pd\n",
    "import numpy as np"
   ]
  },
  {
   "cell_type": "code",
   "execution_count": 2,
   "metadata": {},
   "outputs": [],
   "source": [
    "# !curl https://itch.io/tags -o html/tag_list.html"
   ]
  },
  {
   "cell_type": "code",
   "execution_count": 3,
   "metadata": {},
   "outputs": [],
   "source": [
    "tagzzz = mf.get_tag_url_list('html/tag_list.html')"
   ]
  },
  {
   "cell_type": "code",
   "execution_count": 4,
   "metadata": {},
   "outputs": [
    {
     "data": {
      "text/plain": [
       "[('magic', 'Magic', '/games/tag-magic'),\n",
       " ('surreal', 'Surreal', '/games/tag-surreal'),\n",
       " ('chiptune', 'chiptune', '/games/tag-chiptune'),\n",
       " ('physics', 'Physics', '/games/tag-physics'),\n",
       " ('animals', 'Animals', '/games/tag-animals'),\n",
       " ('ludum-dare-31', 'Ludum Dare 31', '/games/tag-ludum-dare-31'),\n",
       " ('runner', 'Runner', '/games/tag-runner'),\n",
       " ('typing', 'typing', '/games/tag-typing'),\n",
       " ('vector', 'vector', '/games/tag-vector'),\n",
       " ('7dfps', '7dfps', '/games/tag-7dfps'),\n",
       " ('neon', 'Neon', '/games/tag-neon'),\n",
       " ('photorealistic', 'Photorealistic', '/games/tag-photorealistic')]"
      ]
     },
     "execution_count": 4,
     "metadata": {},
     "output_type": "execute_result"
    }
   ],
   "source": [
    "random.shuffle(tagzzz)\n",
    "ptagz = tagzzz[:12]\n",
    "ptagz"
   ]
  },
  {
   "cell_type": "code",
   "execution_count": 5,
   "metadata": {},
   "outputs": [],
   "source": [
    "mf.get_tag_html(ptagz)"
   ]
  },
  {
   "cell_type": "code",
   "execution_count": 6,
   "metadata": {},
   "outputs": [
    {
     "data": {
      "text/plain": [
       "[('neon.html', 416, 30),\n",
       " ('deathmatch.html', 298, 30),\n",
       " ('dos.html', 40, 30),\n",
       " ('visualization.html', 65, 30),\n",
       " ('ludum-dare-31.html', 228, 30),\n",
       " ('surreal.html', 715, 30),\n",
       " ('photorealistic.html', 80, 30),\n",
       " ('7dfps.html', 114, 30),\n",
       " ('cats.html', 789, 30),\n",
       " ('economy.html', 186, 30),\n",
       " ('erotic.html', 91, 30),\n",
       " ('runner.html', 1475, 30),\n",
       " ('lowrezjam.html', 569, 30),\n",
       " ('cozy.html', 218, 30),\n",
       " ('clicker.html', 605, 30),\n",
       " ('relationship.html', 108, 30),\n",
       " ('bullet-hell.html', 1161, 30),\n",
       " ('zombies.html', 1203, 30),\n",
       " ('zx-spectrum.html', 79, 30),\n",
       " ('psychedelic.html', 143, 30),\n",
       " ('typing.html', 233, 30),\n",
       " ('bitsy.html', 658, 30),\n",
       " ('animals.html', 335, 30),\n",
       " ('chiptune.html', 648, 30),\n",
       " ('cyberpunk.html', 626, 30),\n",
       " ('atari.html', 332, 30),\n",
       " ('visual-novel.html', 2577, 30),\n",
       " ('music.html', 1518, 30),\n",
       " ('point-and-click.html', 1532, 30),\n",
       " ('two-colors.html', 112, 30),\n",
       " ('grayscale.html', 98, 30),\n",
       " ('fmv.html', 31, 30),\n",
       " ('tablet.html', 160, 30),\n",
       " ('underwater.html', 256, 30),\n",
       " ('remake.html', 321, 30),\n",
       " ('physics.html', 1631, 30),\n",
       " ('mouse-only.html', 1113, 30),\n",
       " ('real-time.html', 320, 30),\n",
       " ('ludum-dare-40.html', 1664, 30),\n",
       " ('real-time-strategy.html', 729, 30),\n",
       " ('user-interface.html', 68, 30),\n",
       " ('racing.html', 1294, 30),\n",
       " ('jumping.html', 1359, 30),\n",
       " ('vector.html', 274, 30),\n",
       " ('1-bit.html', 500, 30),\n",
       " ('action.html', 18856, 30),\n",
       " ('roguelite.html', 164, 30),\n",
       " ('mashup.html', 77, 30),\n",
       " ('character-customization.html', 239, 30),\n",
       " ('fps-platformer.html', 125, 30),\n",
       " ('ludum-dare-39.html', 1227, 30),\n",
       " ('puzzle-platformer.html', 2773, 30),\n",
       " ('shadows.html', 92, 30),\n",
       " ('lgbt.html', 514, 30),\n",
       " ('atmospheric.html', 2188, 30),\n",
       " ('classes.html', 65, 30),\n",
       " ('magic.html', 770, 30)]"
      ]
     },
     "execution_count": 6,
     "metadata": {},
     "output_type": "execute_result"
    }
   ],
   "source": [
    "mf.parse_tag_html('html/tags/')"
   ]
  },
  {
   "cell_type": "code",
   "execution_count": null,
   "metadata": {},
   "outputs": [],
   "source": []
  }
 ],
 "metadata": {
  "kernelspec": {
   "display_name": "Python 3",
   "language": "python",
   "name": "python3"
  },
  "language_info": {
   "codemirror_mode": {
    "name": "ipython",
    "version": 3
   },
   "file_extension": ".py",
   "mimetype": "text/x-python",
   "name": "python",
   "nbconvert_exporter": "python",
   "pygments_lexer": "ipython3",
   "version": "3.6.4"
  }
 },
 "nbformat": 4,
 "nbformat_minor": 2
}
