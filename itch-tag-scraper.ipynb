{
 "cells": [
  {
   "cell_type": "code",
   "execution_count": 1,
   "metadata": {},
   "outputs": [],
   "source": [
    "import os\n",
    "import magonote_functions as mf\n",
    "import random\n",
    "import pandas as pd\n",
    "import numpy as np"
   ]
  },
  {
   "cell_type": "code",
   "execution_count": null,
   "metadata": {},
   "outputs": [],
   "source": [
    "# !curl https://itch.io/tags -o html/tag_list.html"
   ]
  },
  {
   "cell_type": "code",
   "execution_count": null,
   "metadata": {},
   "outputs": [],
   "source": [
    "tagzzz = mf.get_tag_url_list('html/tag_list.html')"
   ]
  },
  {
   "cell_type": "code",
   "execution_count": null,
   "metadata": {},
   "outputs": [],
   "source": [
    "mf.get_tag_html(tagzzz)"
   ]
  },
  {
   "cell_type": "code",
   "execution_count": 11,
   "metadata": {},
   "outputs": [],
   "source": [
    "# get all tag assignments from all tag subdirs\n",
    "\n",
    "tag_top = 'html/tags'\n",
    "big_ass_list = list()\n",
    "for item in os.listdir(tag_top):\n",
    "    tagdir = tag_top + '/' + item\n",
    "    if os.path.isdir(tagdir):\n",
    "        this_ass_set = mf.get_tag_assignments(tagdir)\n",
    "        big_ass_list.append(this_ass_set)"
   ]
  },
  {
   "cell_type": "code",
   "execution_count": 2,
   "metadata": {},
   "outputs": [
    {
     "data": {
      "text/plain": [
       "[('episodic',\n",
       "  'https://omelia-plude.itch.io/legend-of-zelda-une-derniere-fois'),\n",
       " ('episodic', 'https://ertego-games.itch.io/the-n'),\n",
       " ('episodic', 'https://monsoon-productions.itch.io/dark-sacrifices'),\n",
       " ('episodic', 'https://cycle-of-fates.itch.io/happymelancholicdemo'),\n",
       " ('episodic',\n",
       "  'https://dellanime-productions.itch.io/bestial-tendencies-kinetic-visual-novel'),\n",
       " ('episodic', 'https://lectronice.itch.io/a-road-to-awe'),\n",
       " ('episodic', 'https://ragingmages.itch.io/lone-water-prologue'),\n",
       " ('episodic', 'https://onplay.itch.io/fantasy-squad-the-era-begins'),\n",
       " ('episodic', 'https://coughlinjon.itch.io/the-eyes-of-cheatin-hitman'),\n",
       " ('episodic', 'https://malachy-o.itch.io/sugar-lung'),\n",
       " ('episodic', 'https://malachy-o.itch.io/history-jacket'),\n",
       " ('episodic', 'https://malachy-o.itch.io/interesting-coat'),\n",
       " ('episodic',\n",
       "  'https://penholder.itch.io/elsewhere-high-chapter-1-a-visual-novel-'),\n",
       " ('episodic', 'https://acgeero.itch.io/m-d-pc-game'),\n",
       " ('episodic', 'https://smartolive.itch.io/zappescape-from-hollowcell'),\n",
       " ('episodic', 'https://thestoryteller.itch.io/lost-and-found'),\n",
       " ('episodic', 'https://getcompt.itch.io/noite-de-festa'),\n",
       " ('episodic', 'https://criptomedia.itch.io/solarruins'),\n",
       " ('episodic', 'https://thinkingmicrowave.itch.io/balloonie'),\n",
       " ('episodic', 'https://bizarremonkey.itch.io/intelligence'),\n",
       " ('episodic', 'https://hexgear.itch.io/xen-the-alien-demo'),\n",
       " ('episodic', 'https://hatchlight.itch.io/rescue-love-revenge'),\n",
       " ('episodic', 'https://mimic-kairatta.itch.io/sky-haven-short-stories'),\n",
       " ('episodic', 'https://clorithapps.itch.io/empty-soul'),\n",
       " ('episodic', 'https://ludeshka.itch.io/hierofania-2'),\n",
       " ('episodic', 'https://nomnomnami.itch.io/clever-fox-moxie'),\n",
       " ('episodic', 'https://rocketlex.itch.io/sanity-check-chapter-1'),\n",
       " ('episodic', 'https://vikkiruttle.itch.io/hippocampus'),\n",
       " ('episodic', 'https://zerodigitz.itch.io/sinsofdaisy'),\n",
       " ('episodic', 'https://vickysafterlife.itch.io/welcome'),\n",
       " ('episodic', 'https://rhete.itch.io/hunters-stage-2'),\n",
       " ('episodic', 'https://rhete.itch.io/hunters-stage-1'),\n",
       " ('episodic', 'https://keysofnine.itch.io/dungeon-lurk-ii---leona'),\n",
       " ('episodic', 'https://ctjet99.itch.io/growing-pains'),\n",
       " ('episodic', 'https://dark-gaia-studios.itch.io/heroes-of-legionwood'),\n",
       " ('episodic', 'https://ashlow.itch.io/dreams'),\n",
       " ('episodic',\n",
       "  'https://mrmediamanx.itch.io/the-jaunty-skeleman-chronicles-episode-1-noose'),\n",
       " ('episodic', 'https://endemicafro.itch.io/sanities-lament-episode-6'),\n",
       " ('episodic', 'https://percon.itch.io/exitcorners'),\n",
       " ('episodic', 'https://nqn.itch.io/stream-of-pretentiousness'),\n",
       " ('episodic', 'https://trumpygame.itch.io/trumpygame'),\n",
       " ('episodic', 'https://nyaraka.itch.io/lsn-ep01'),\n",
       " ('episodic', 'https://se77e.itch.io/the-alpha-chosen'),\n",
       " ('episodic', 'https://rip-horse.itch.io/forgotten-faces'),\n",
       " ('episodic', 'https://tomhughes.itch.io/conform'),\n",
       " ('episodic', 'https://darkchibishadow.itch.io/one-eyed-lee-prologue'),\n",
       " ('episodic', 'https://endemicafro.itch.io/sanities-lament-episode-3'),\n",
       " ('episodic', 'https://endemicafro.itch.io/sanities-lament-episode-2'),\n",
       " ('episodic', 'https://benjybates.itch.io/the-outpost-nine-demo'),\n",
       " ('episodic', 'https://ebygor-studio.itch.io/chris-edward-am'),\n",
       " ('episodic', 'https://marienkafer.itch.io/free-or-not'),\n",
       " ('episodic', 'https://allerka.itch.io/breach'),\n",
       " ('episodic', 'https://timelesstudios.itch.io/cursiva'),\n",
       " ('episodic', 'https://beastcarving.itch.io/pulse-cage-episode-3'),\n",
       " ('episodic', 'https://endemicafro.itch.io/sanitiesepisode1'),\n",
       " ('episodic', 'https://fronz-tec.itch.io/fronz-tecs-super-ball'),\n",
       " ('episodic', 'https://thekinardist.itch.io/dreaming'),\n",
       " ('episodic', 'https://lanyu-estudio.itch.io/make-your-adventure'),\n",
       " ('episodic', 'https://knightwatch.itch.io/dungeon-fall'),\n",
       " ('episodic',\n",
       "  'https://jacpete.itch.io/super-mage-world-jump-n-run-castle-demo'),\n",
       " ('episodic', 'https://blitzfall.itch.io/jumpers'),\n",
       " ('episodic', 'https://hawkdanny.itch.io/speak-up-people-listen'),\n",
       " ('episodic', 'https://nomnomnami.itch.io/wandering-wolf-trick'),\n",
       " ('episodic', 'https://toxicmilk.itch.io/bunqy'),\n",
       " ('episodic', 'https://astrakit.itch.io/sunset-dream'),\n",
       " ('episodic', 'https://jakejc.itch.io/break-brick-bounce-ball'),\n",
       " ('episodic', 'https://ourteamxvg.itch.io/live-lives-ss-brothers-forever'),\n",
       " ('episodic', 'https://siepiau.itch.io/pandora-trichotomy'),\n",
       " ('episodic', 'https://naturally.itch.io/patchman-vs-blue-squares'),\n",
       " ('episodic', 'https://snowchxll.itch.io/cynthia-chapter-1-'),\n",
       " ('episodic', 'https://clivestream.itch.io/flashlight-dating-simulator'),\n",
       " ('episodic', 'https://catherine-dupre-duchesne.itch.io/why-we-survive'),\n",
       " ('episodic', 'https://phaethongames.itch.io/eidolon'),\n",
       " ('episodic', 'https://isolation-media.itch.io/lost'),\n",
       " ('episodic', 'https://atticsalt.itch.io/silver'),\n",
       " ('episodic', 'https://eastoned.itch.io/this-mess'),\n",
       " ('episodic', 'https://ourteamxvg.itch.io/live-lives-chapter-1-demo'),\n",
       " ('episodic', 'https://jetspice.itch.io/the-day-they-sent-some-spaceships'),\n",
       " ('episodic', 'https://lethalix1.itch.io/moxies-foxy-den'),\n",
       " ('episodic', 'https://psionicgames.itch.io/being-one-episode-6'),\n",
       " ('episodic', 'https://udachagames.itch.io/de-feet-1-1-pilot'),\n",
       " ('episodic', 'https://nascentgames.itch.io/crumple-episode-1-full'),\n",
       " ('episodic', 'https://nexusfiregames.itch.io/blinded-soul'),\n",
       " ('episodic', 'https://naturally.itch.io/patchman-vs-red-circles'),\n",
       " ('episodic', 'https://boisteroushero.itch.io/legends-of-astravia'),\n",
       " ('episodic', 'https://thecianrice.itch.io/link-cable-lines'),\n",
       " ('episodic', 'https://rotogames.itch.io/cute-psychic'),\n",
       " ('episodic', 'https://patrick-amez.itch.io/terrorist-world'),\n",
       " ('episodic', 'https://studio-dragonwolf.itch.io/pherian'),\n",
       " ('episodic', 'https://carlos-matheus.itch.io/the-awakening'),\n",
       " ('episodic', 'https://tab-696939.itch.io/king-arthur'),\n",
       " ('episodic', 'https://poxnixles.itch.io/incomspe'),\n",
       " ('episodic', 'https://reineworks.itch.io/-the-tail-makes-the-fox'),\n",
       " ('episodic', 'https://ho2061401.itch.io/the-room-of-black-white'),\n",
       " ('episodic', 'https://tedagriogianis.itch.io/the-general-of-pylos'),\n",
       " ('episodic', 'https://approductions.itch.io/boy-and-girl'),\n",
       " ('episodic', 'https://tedagriogianis.itch.io/the-chancellor-of-hydria'),\n",
       " ('episodic', 'https://nomnomnami.itch.io/friendly-bunny-mochi'),\n",
       " ('episodic', 'https://slicky-mcgee.itch.io/knights-of-agramore'),\n",
       " ('episodic', 'https://toughcrowd.itch.io/bittersweet'),\n",
       " ('episodic', 'https://btseven.itch.io/deepflare'),\n",
       " ('episodic', 'https://nomnomnami.itch.io/lonely-wolf-treat'),\n",
       " ('episodic', 'https://scotty42.itch.io/mead-runner'),\n",
       " ('episodic', 'https://glitchgames.itch.io/forever-lost-episode-3'),\n",
       " ('episodic', 'https://glitchgames.itch.io/forever-lost-episode-2'),\n",
       " ('episodic', 'https://glitchgames.itch.io/forever-lost-episode-1'),\n",
       " ('episodic', 'https://glitchgames.itch.io/cabin-escape-alices-story'),\n",
       " ('episodic', 'https://thunderware.itch.io/tales-of-enders'),\n",
       " ('episodic', 'https://elowan.itch.io/olympic-games'),\n",
       " ('episodic', 'https://nascentgames.itch.io/crumple-episode-1-demo'),\n",
       " ('episodic', 'https://amrut.itch.io/dangerous-don-2'),\n",
       " ('episodic',\n",
       "  'https://bigannegames.itch.io/she-dont-believe-in-talking-bears'),\n",
       " ('episodic',\n",
       "  'https://openformgames.itch.io/data-burst-bonus-material-on-the-set'),\n",
       " ('episodic', 'https://renegadegamestudios.itch.io/the-consuming-darkness'),\n",
       " ('episodic', 'https://eightbitskyline.itch.io/hjarta'),\n",
       " ('episodic', 'https://goodwolfstudio.itch.io/code-7'),\n",
       " ('episodic', 'https://graveshift.itch.io/rage-chronicles'),\n",
       " ('episodic',\n",
       "  'https://nebulaic-toaster.itch.io/a-quick-swim-to-clear-your-head'),\n",
       " ('episodic', 'https://jeffwise.itch.io/colossusandbob'),\n",
       " ('episodic', 'https://rhete.itch.io/hunters-stage-6'),\n",
       " ('episodic', 'https://rhete.itch.io/hunters-stage-5'),\n",
       " ('episodic', 'https://rhete.itch.io/hunters-stage-4'),\n",
       " ('episodic', 'https://rhete.itch.io/hunters-stage-3')]"
      ]
     },
     "execution_count": 2,
     "metadata": {},
     "output_type": "execute_result"
    }
   ],
   "source": [
    "tag_dir = 'html/tags/episodic'\n",
    "ass_list = mf.get_tag_assignments(tag_dir)\n",
    "ass_list"
   ]
  },
  {
   "cell_type": "code",
   "execution_count": null,
   "metadata": {},
   "outputs": [],
   "source": [
    "taginfo = mf.parse_tag_html('html/tags/')"
   ]
  },
  {
   "cell_type": "code",
   "execution_count": null,
   "metadata": {},
   "outputs": [],
   "source": [
    "len(taginfo)"
   ]
  },
  {
   "cell_type": "code",
   "execution_count": null,
   "metadata": {},
   "outputs": [],
   "source": [
    "# for thistag in taginfo:\n",
    "#     mf.get_games_from_tag(thistag[0], thistag[1])"
   ]
  },
  {
   "cell_type": "code",
   "execution_count": null,
   "metadata": {},
   "outputs": [],
   "source": [
    "thattag = taginfo[20]\n",
    "thattag"
   ]
  },
  {
   "cell_type": "code",
   "execution_count": null,
   "metadata": {},
   "outputs": [],
   "source": [
    "mf.get_games_from_tag(thattag[0], thattag[1])"
   ]
  },
  {
   "cell_type": "code",
   "execution_count": null,
   "metadata": {},
   "outputs": [],
   "source": [
    "for i, tagdir in enumerate(taginfo):\n",
    "    n_files = len(os.listdir('html/tags/' + tagdir[0]))\n",
    "    c_files = (tagdir[1] // tagdir[2]) + 1\n",
    "    diff = c_files - n_files\n",
    "    ratio = diff / c_files\n",
    "    pstr = \"{}. files for tag {}: actual: {} calculated: {} difference: {} ratio:{}\".format(i, tagdir[0], n_files, c_files, diff, ratio)\n",
    "    print(pstr)\n",
    "    if ratio > .4:\n",
    "        mf.get_games_from_tag(taginfo[i][0], taginfo[i][1])\n",
    "    "
   ]
  },
  {
   "cell_type": "code",
   "execution_count": null,
   "metadata": {},
   "outputs": [],
   "source": []
  },
  {
   "cell_type": "code",
   "execution_count": null,
   "metadata": {},
   "outputs": [],
   "source": []
  }
 ],
 "metadata": {
  "kernelspec": {
   "display_name": "Python 3",
   "language": "python",
   "name": "python3"
  },
  "language_info": {
   "codemirror_mode": {
    "name": "ipython",
    "version": 3
   },
   "file_extension": ".py",
   "mimetype": "text/x-python",
   "name": "python",
   "nbconvert_exporter": "python",
   "pygments_lexer": "ipython3",
   "version": "3.6.4"
  }
 },
 "nbformat": 4,
 "nbformat_minor": 2
}
