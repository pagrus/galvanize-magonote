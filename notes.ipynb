{
 "cells": [
  {
   "cell_type": "markdown",
   "metadata": {},
   "source": [
    "### before anything!\n",
    "- check your location"
   ]
  },
  {
   "cell_type": "markdown",
   "metadata": {},
   "source": [
    "### s3\n",
    "- create bucket- default permissions"
   ]
  },
  {
   "cell_type": "markdown",
   "metadata": {},
   "source": [
    "### rds\n",
    "\n",
    "- start up instance- postgres \"production\"\n",
    "- connection info: https://docs.aws.amazon.com/AmazonRDS/latest/UserGuide/USER_ConnectToPostgreSQLInstance.html"
   ]
  },
  {
   "cell_type": "markdown",
   "metadata": {},
   "source": [
    "### ec2\n",
    "- just stick with ubuntu dude\n",
    "- instance type m5.large\n",
    "- 100gb hd\n",
    "- new key pair magonote\n",
    "- launch"
   ]
  },
  {
   "cell_type": "markdown",
   "metadata": {},
   "source": [
    "### connecting\n",
    "- https://docs.aws.amazon.com/AWSEC2/latest/UserGuide/AccessingInstancesLinux.html"
   ]
  },
  {
   "cell_type": "markdown",
   "metadata": {},
   "source": [
    "### first thing\n",
    "- maybe put this into a script?\n",
    "- various bash commands, maybe copy paste history here\n",
    "- copy public ssh key to github\n",
    "- maybe miniconda instead of conda? see chyld pdf\n",
    "- "
   ]
  }
 ],
 "metadata": {
  "kernelspec": {
   "display_name": "Python 3",
   "language": "python",
   "name": "python3"
  },
  "language_info": {
   "codemirror_mode": {
    "name": "ipython",
    "version": 3
   },
   "file_extension": ".py",
   "mimetype": "text/x-python",
   "name": "python",
   "nbconvert_exporter": "python",
   "pygments_lexer": "ipython3",
   "version": "3.6.3"
  }
 },
 "nbformat": 4,
 "nbformat_minor": 2
}
