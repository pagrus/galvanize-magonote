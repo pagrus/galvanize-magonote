{
 "cells": [
  {
   "cell_type": "markdown",
   "metadata": {},
   "source": [
    "### before anything!\n",
    "- check your location"
   ]
  },
  {
   "cell_type": "markdown",
   "metadata": {},
   "source": [
    "### s3\n",
    "- create bucket- default permissions"
   ]
  },
  {
   "cell_type": "markdown",
   "metadata": {},
   "source": [
    "### rds\n",
    "\n",
    "- start up instance- postgres \"production\"\n",
    "- connection info: https://docs.aws.amazon.com/AmazonRDS/latest/UserGuide/USER_ConnectToPostgreSQLInstance.html"
   ]
  },
  {
   "cell_type": "markdown",
   "metadata": {},
   "source": [
    "### ec2\n",
    "- just stick with ubuntu dude\n",
    "- instance type m5.large\n",
    "- 100gb hd\n",
    "- new key pair magonote\n",
    "- launch"
   ]
  },
  {
   "cell_type": "markdown",
   "metadata": {},
   "source": [
    "### connecting\n",
    "- https://docs.aws.amazon.com/AWSEC2/latest/UserGuide/AccessingInstancesLinux.html"
   ]
  },
  {
   "cell_type": "markdown",
   "metadata": {},
   "source": [
    "### first thing\n",
    "- maybe put this into a script?\n",
    "- various bash commands, maybe copy paste history here\n",
    "- copy public ssh key to github\n",
    "- maybe miniconda instead of conda? see chyld pdf\n",
    "- "
   ]
  },
  {
   "cell_type": "code",
   "execution_count": 1,
   "metadata": {},
   "outputs": [],
   "source": [
    "# handy bashes\n",
    "\n",
    "# count files in dir \n",
    "# ls -1 html/post_pages | wc -l\n",
    "\n",
    "# tmux ls\n",
    "# tmux attach -t sessionname\n",
    "\n",
    "# find (only) files in dir that are less than 1000 bytes, delete them\n",
    "# find post_pages/ -size -1000c -type f -delete\n",
    "\n",
    "# oh yeah, sshfs:\n",
    "# sshfs magonote:galvanize-magonote ~/Desktop/ec2-magonote/"
   ]
  },
  {
   "cell_type": "markdown",
   "metadata": {},
   "source": [
    "### todo\n",
    "\n",
    "- get tag pages, get counts\n",
    "- stick tags on to game descriptions"
   ]
  },
  {
   "cell_type": "code",
   "execution_count": null,
   "metadata": {},
   "outputs": [],
   "source": []
  }
 ],
 "metadata": {
  "kernelspec": {
   "display_name": "Python 3",
   "language": "python",
   "name": "python3"
  },
  "language_info": {
   "codemirror_mode": {
    "name": "ipython",
    "version": 3
   },
   "file_extension": ".py",
   "mimetype": "text/x-python",
   "name": "python",
   "nbconvert_exporter": "python",
   "pygments_lexer": "ipython3",
   "version": "3.6.4"
  }
 },
 "nbformat": 4,
 "nbformat_minor": 2
}
