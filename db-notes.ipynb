{
 "cells": [
  {
   "cell_type": "code",
   "execution_count": null,
   "metadata": {},
   "outputs": [],
   "source": [
    "# sudo apt-get install postgresql\n",
    "# sudo apt install postgresql-client-common\n",
    "# sudo apt-get install postgresql postgresql-contrib\n",
    "# sudo apt install libpq-dev python3-dev"
   ]
  },
  {
   "cell_type": "code",
   "execution_count": null,
   "metadata": {},
   "outputs": [],
   "source": [
    "# sudo -u postgres psql"
   ]
  },
  {
   "cell_type": "code",
   "execution_count": null,
   "metadata": {},
   "outputs": [],
   "source": [
    "# CREATE ROLE itchbot WITH LOGIN CREATEDB PASSWORD 'IB!0502';"
   ]
  },
  {
   "cell_type": "code",
   "execution_count": null,
   "metadata": {},
   "outputs": [],
   "source": [
    "# instructions for creating users etc:\n",
    "# https://www.digitalocean.com/community/tutorials/how-to-install-and-use-postgresql-on-ubuntu-16-04"
   ]
  },
  {
   "cell_type": "code",
   "execution_count": null,
   "metadata": {},
   "outputs": [],
   "source": [
    "CREATE TABLE itch_game (\n",
    "    game_id serial PRIMARY KEY,\n",
    "    creator_id INT,\n",
    "    slug varchar (50) NOT NULL,\n",
    "    name varchar (25) NOT NULL,\n",
    "    note varchar (50)\n",
    ");"
   ]
  },
  {
   "cell_type": "code",
   "execution_count": null,
   "metadata": {},
   "outputs": [],
   "source": [
    "CREATE TABLE itch_user (\n",
    "    user_id serial PRIMARY KEY,\n",
    "    slug varchar (50) NOT NULL,\n",
    "    name varchar (25) NOT NULL,\n",
    "    note varchar (50)\n",
    ");"
   ]
  },
  {
   "cell_type": "code",
   "execution_count": null,
   "metadata": {},
   "outputs": [],
   "source": [
    "CREATE TABLE itch_tag (\n",
    "    tag_id serial PRIMARY KEY,\n",
    "    slug varchar (50) NOT NULL\n",
    ");"
   ]
  },
  {
   "cell_type": "code",
   "execution_count": null,
   "metadata": {},
   "outputs": [],
   "source": [
    "CREATE TABLE itch_tag_count (\n",
    "    id serial PRIMARY KEY,\n",
    "    tag_id INT,\n",
    "    count INT,\n",
    "    stamp timestamp without time zone default (now() at time zone 'utc')\n",
    ");"
   ]
  },
  {
   "cell_type": "code",
   "execution_count": null,
   "metadata": {},
   "outputs": [],
   "source": [
    "CREATE TABLE itch_tag_assignments (\n",
    "    ass_id serial PRIMARY KEY,\n",
    "    tag_id INT,\n",
    "    game_id INT\n",
    ");"
   ]
  },
  {
   "cell_type": "code",
   "execution_count": null,
   "metadata": {},
   "outputs": [],
   "source": [
    "CREATE VIEW itch_tag_count_detail AS\n",
    "    SELECT it.tag_id, itc.count, it.slug\n",
    "    FROM itch_tag it\n",
    "    JOIN itch_tag_count itc\n",
    "    ON it.tag_id = itc.tag_id;"
   ]
  },
  {
   "cell_type": "code",
   "execution_count": null,
   "metadata": {},
   "outputs": [],
   "source": [
    "CREATE VIEW itch_tag_assignments_detail AS\n",
    "    SELECT it.tag_id, it.slug AS tag_slug, ig.game_id, ig.url AS game_url\n",
    "    FROM itch_tag_assignments ita\n",
    "    JOIN itch_tag it\n",
    "    ON it.tag_id = ita.tag_id\n",
    "    JOIN itch_game ig\n",
    "    ON ita.game_id = ig.game_id;"
   ]
  },
  {
   "cell_type": "code",
   "execution_count": 1,
   "metadata": {},
   "outputs": [],
   "source": [
    "# ok maybe just try this first before installing a bunch of garbage:\n",
    "# pip install psycopg2\n",
    "# ge\n",
    "\n",
    "import pandas as pd\n",
    "import numpy as np\n",
    "import psycopg2\n",
    "import requests"
   ]
  },
  {
   "cell_type": "code",
   "execution_count": null,
   "metadata": {},
   "outputs": [],
   "source": [
    "\n",
    "\n",
    "db_name = 'itchbot'\n",
    "db_user = 'itchbot'\n",
    "db_pw = 'IB!0502'\n",
    "db_host = '127.0.0.1'\n",
    "\n",
    "conn=psycopg2.connect( database=db_name, user=db_user, host=db_host, password=db_pw )\n",
    "cur = conn.cursor()"
   ]
  },
  {
   "cell_type": "code",
   "execution_count": null,
   "metadata": {},
   "outputs": [],
   "source": [
    "cur.execute(\"\"\"INSERT INTO itch_tag(slug) VALUES('urmmmllk')\"\"\")"
   ]
  },
  {
   "cell_type": "code",
   "execution_count": null,
   "metadata": {},
   "outputs": [],
   "source": [
    "# from psycopg docs:\n",
    "cur.execute(\"INSERT INTO itch_user (user_id, slug, name) VALUES (%s, %s, %s)\", (100, \"urgg\" , \"abc'def\"))\n",
    "conn.commit()"
   ]
  },
  {
   "cell_type": "code",
   "execution_count": null,
   "metadata": {},
   "outputs": [],
   "source": [
    "utup = (123, \"zomg\", 'blerggg')\n",
    "cur.execute(\"INSERT INTO itch_user (user_id, slug, name) VALUES (%s, %s, %s)\", utup)\n",
    "conn.commit()"
   ]
  },
  {
   "cell_type": "code",
   "execution_count": null,
   "metadata": {},
   "outputs": [],
   "source": [
    "cur.execute(\"\"\"SELECT * from itch_user\"\"\")"
   ]
  },
  {
   "cell_type": "code",
   "execution_count": null,
   "metadata": {},
   "outputs": [],
   "source": [
    "cur.fetchmany(20)"
   ]
  },
  {
   "cell_type": "code",
   "execution_count": null,
   "metadata": {},
   "outputs": [],
   "source": [
    "conn.commit()"
   ]
  },
  {
   "cell_type": "code",
   "execution_count": null,
   "metadata": {},
   "outputs": [],
   "source": [
    "cur.close() # close cursor\n",
    "conn.commit()\n",
    "conn.close() # close connection"
   ]
  },
  {
   "cell_type": "code",
   "execution_count": 2,
   "metadata": {},
   "outputs": [],
   "source": [
    "import magonote_functions as mf"
   ]
  },
  {
   "cell_type": "code",
   "execution_count": null,
   "metadata": {},
   "outputs": [],
   "source": [
    "with open (tag_html_file, 'r') as tfh:\n",
    "    tf_html = tfh.read()"
   ]
  },
  {
   "cell_type": "code",
   "execution_count": 3,
   "metadata": {},
   "outputs": [],
   "source": [
    "r = requests.get('https://itch.io/tags')\n",
    "rt = r.text"
   ]
  },
  {
   "cell_type": "code",
   "execution_count": 5,
   "metadata": {},
   "outputs": [],
   "source": [
    "tagzz = mf.get_tag_info(rt)"
   ]
  },
  {
   "cell_type": "code",
   "execution_count": 6,
   "metadata": {},
   "outputs": [
    {
     "data": {
      "text/plain": [
       "[('16-bit', '16-bit', '/games/tag-16-bit'),\n",
       " ('1-bit', '1-bit', '/games/tag-1-bit'),\n",
       " ('1gam', '1GAM', '/games/tag-1gam'),\n",
       " ('2d', '2D', '/games/tag-2d'),\n",
       " ('3d', '3D', '/games/tag-3d'),\n",
       " ('3d-platformer', '3D Platformer', '/games/tag-3d-platformer'),\n",
       " ('4x', '4X', '/games/tag-4x'),\n",
       " ('7dfps', '7dfps', '/games/tag-7dfps'),\n",
       " ('7drl', 'Seven Day Roguelike Challenge', '/games/tag-7drl'),\n",
       " ('8-bit', '8-bit', '/games/tag-8-bit'),\n",
       " ('abstract', 'Abstract', '/games/tag-abstract'),\n",
       " ('action', 'Action', '/games/genre-action'),\n",
       " ('action-adventure', 'Action-Adventure', '/games/tag-action-adventure'),\n",
       " ('action-rpg', 'Action RPG', '/games/tag-action-rpg'),\n",
       " ('adventure', 'Adventure', '/games/genre-adventure'),\n",
       " ('aliens', 'Aliens', '/games/tag-aliens'),\n",
       " ('alternate-history', 'Alternate History', '/games/tag-alternate-history'),\n",
       " ('altgame', 'Altgame', '/games/tag-altgame'),\n",
       " ('animals', 'Animals', '/games/tag-animals'),\n",
       " ('anime', 'Anime', '/games/tag-anime'),\n",
       " ('arcade', 'Arcade', '/games/tag-arcade'),\n",
       " ('archery', 'Archery', '/games/tag-archery'),\n",
       " ('art-book', 'art-book', '/misc/tag-art-book'),\n",
       " ('artgame', 'artgame', '/games/tag-artgame'),\n",
       " ('artificial-intelligence',\n",
       "  'artificial-intelligence',\n",
       "  '/games/tag-artificial-intelligence'),\n",
       " ('ascii', 'ascii', '/games/tag-ascii'),\n",
       " ('asteroids', 'Asteroids', '/games/tag-asteroids'),\n",
       " ('atari', 'atari', '/games/tag-atari'),\n",
       " ('atmospheric', 'Atmospheric', '/games/tag-atmospheric'),\n",
       " ('barfcade', 'Barfcade', '/games/tag-barfcade'),\n",
       " ('beat-em-up', \"Beat 'em up\", '/games/tag-beat-em-up'),\n",
       " ('binaural', 'binaural', '/games/tag-binaural'),\n",
       " ('bitsy', 'Bitsy', '/games/tag-bitsy'),\n",
       " ('black-and-white', 'black-and-white', '/games/tag-black-and-white'),\n",
       " ('blocks', 'blocks', '/games/tag-blocks'),\n",
       " ('board-game', 'Board Game', '/games/tag-board-game'),\n",
       " ('boss-battle', 'Boss battle', '/games/tag-boss-battle'),\n",
       " ('bullet-hell', 'Bullet Hell', '/games/tag-bullet-hell'),\n",
       " ('card-game', 'Card Game', '/games/tag-card-game'),\n",
       " ('casual', 'Casual', '/games/tag-casual'),\n",
       " ('cats', 'cats', '/games/tag-cats'),\n",
       " ('character-customization',\n",
       "  'Character Customization',\n",
       "  '/games/tag-character-customization'),\n",
       " ('chicken', 'Chicken', '/games/tag-chicken'),\n",
       " ('chiptune', 'chiptune', '/games/tag-chiptune'),\n",
       " ('christmas', 'Christmas', '/games/tag-christmas'),\n",
       " ('city-builder', 'City Builder', '/games/tag-city-builder'),\n",
       " ('classes', 'Classes', '/games/tag-classes'),\n",
       " ('clicker', 'clicker', '/games/tag-clicker'),\n",
       " ('colorful', 'Colorful', '/games/tag-colorful'),\n",
       " ('combos', 'combos', '/games/tag-combos'),\n",
       " ('comedy', 'Comedy', '/games/tag-comedy'),\n",
       " ('coming-of-age', 'coming-of-age', '/games/tag-coming-of-age'),\n",
       " ('commodore-64', 'Commodore 64', '/games/tag-commodore-64'),\n",
       " ('construct-2', 'Construct 2', '/games/tag-construct-2'),\n",
       " ('controller', 'Controller', '/games/tag-controller'),\n",
       " ('co-op', 'Co-op', '/games/tag-co-op'),\n",
       " ('corona-sdk', 'Corona SDK', '/games/tag-corona-sdk'),\n",
       " ('cozy', 'Cozy', '/games/tag-cozy'),\n",
       " ('crafting', 'Crafting', '/games/tag-crafting'),\n",
       " ('crime', 'Crime', '/games/tag-crime'),\n",
       " ('cult-classic', 'Cult Classic', '/games/tag-cult-classic'),\n",
       " ('cute', 'Cute', '/games/tag-cute'),\n",
       " ('cyberpunk', 'Cyberpunk', '/games/tag-cyberpunk'),\n",
       " ('dark', 'Dark', '/games/tag-dark'),\n",
       " ('dark-fantasy', 'Dark Fantasy', '/games/tag-dark-fantasy'),\n",
       " ('dark-humor', 'Dark Humor', '/games/tag-dark-humor'),\n",
       " ('dating-sim', 'Dating Sim', '/games/tag-dating-sim'),\n",
       " ('deathmatch', 'deathmatch', '/games/tag-deathmatch'),\n",
       " ('deck-building', 'Deck Building', '/games/tag-deck-building'),\n",
       " ('demake', 'Demake', '/games/tag-demake'),\n",
       " ('destruction', 'Destruction', '/games/tag-destruction'),\n",
       " ('detective', 'Detective', '/games/tag-detective'),\n",
       " ('difficult', 'Difficult', '/games/tag-difficult'),\n",
       " ('dinosaurs', 'Dinosaurs', '/games/tag-dinosaurs'),\n",
       " ('dogs', 'Dogs', '/games/tag-dogs'),\n",
       " ('dos', 'DOS', '/games/tag-dos'),\n",
       " ('dragons', 'Dragons', '/games/tag-dragons'),\n",
       " ('dreams', 'Dreams', '/games/tag-dreams'),\n",
       " ('driving', 'Driving', '/games/tag-driving'),\n",
       " ('drm-free', 'DRM Free', '/games/tag-drm-free'),\n",
       " ('dungeon-crawler', 'Dungeon Crawler', '/games/tag-dungeon-crawler'),\n",
       " ('dystopian', 'Dystopian', '/games/tag-dystopian'),\n",
       " ('economy', 'Economy', '/games/tag-economy'),\n",
       " ('educational', 'Educational', '/games/tag-educational'),\n",
       " ('endless', 'Endless', '/games/tag-endless'),\n",
       " ('episodic', 'Episodic', '/games/tag-episodic'),\n",
       " ('erotic', 'erotic', '/games/tag-erotic'),\n",
       " ('escape-game', 'Escape Game', '/games/tag-escape-game'),\n",
       " ('experimental', 'Experimental', '/games/tag-experimental'),\n",
       " ('exploration', 'Exploration', '/games/tag-exploration'),\n",
       " ('explosions', 'Explosions', '/games/tag-explosions'),\n",
       " ('fairy-tale', 'Fairy Tale', '/games/tag-fairy-tale'),\n",
       " ('fangame', 'Fangame', '/games/tag-fangame'),\n",
       " ('fantasy', 'Fantasy', '/games/tag-fantasy'),\n",
       " ('fantasy-console', 'fantasy-console', '/games/tag-fantasy-console'),\n",
       " ('farming', 'Farming', '/games/tag-farming'),\n",
       " ('fast-paced', 'Fast-Paced', '/games/tag-fast-paced'),\n",
       " ('female-protagonist', 'Female Protagonist', '/games/tag-female-protagonist'),\n",
       " ('fighting', 'Fighting', '/games/tag-fighting'),\n",
       " ('first-person', 'First-Person', '/games/tag-first-person'),\n",
       " ('fishing', 'fishing', '/games/tag-fishing'),\n",
       " ('flappy-bird', 'Flappy Bird', '/games/tag-flappy-bird'),\n",
       " ('flat-shading', 'flat-shading', '/games/tag-flat-shading'),\n",
       " ('flight', 'Flight', '/games/tag-flight'),\n",
       " ('fmv', 'FMV', '/games/tag-fmv'),\n",
       " ('fonts', 'fonts', '/game-assets/tag-fonts'),\n",
       " ('fps', 'FPS', '/games/tag-fps'),\n",
       " ('fps-platformer', 'fps-platformer', '/games/tag-fps-platformer'),\n",
       " ('frog', 'Frogs', '/games/tag-frog'),\n",
       " ('funny', 'Funny', '/games/tag-funny'),\n",
       " ('futuristic', 'Futuristic', '/games/tag-futuristic'),\n",
       " ('gameboy', 'Game Boy', '/games/tag-gameboy'),\n",
       " ('gameboy-advance', 'Game Boy Advance', '/games/tag-gameboy-advance'),\n",
       " ('game-engine', 'Game engine', '/tools/tag-game-engine'),\n",
       " ('gamemaker', 'GameMaker', '/games/tag-gamemaker'),\n",
       " ('gamepad', 'gamepad', '/games/tag-gamepad'),\n",
       " ('gardening', 'Gardening', '/games/tag-gardening'),\n",
       " ('gbjam', 'GBJam', '/games/tag-gbjam'),\n",
       " ('generator', 'Generator', '/games/tag-generator'),\n",
       " ('ggj15', 'ggj15', '/games/tag-ggj15'),\n",
       " ('ghosts', 'ghosts', '/games/tag-ghosts'),\n",
       " ('github', 'GitHub', '/games/tag-github'),\n",
       " ('glitch', 'glitch', '/games/tag-glitch'),\n",
       " ('global-game-jam', 'Global Game Jam', '/games/tag-global-game-jam'),\n",
       " ('gmtkjam', \"Game Maker's Toolkit Jam\", '/games/tag-gmtkjam'),\n",
       " ('gore', 'Gore', '/games/tag-gore'),\n",
       " ('gothic', 'Gothic', '/games/tag-gothic'),\n",
       " ('gravity', 'Gravity', '/games/tag-gravity'),\n",
       " ('grayscale', 'Grayscale', '/games/tag-grayscale'),\n",
       " ('hack-and-slash', 'Hack and Slash', '/games/tag-hack-and-slash'),\n",
       " ('halloween', 'Halloween', '/games/tag-halloween'),\n",
       " ('hand-drawn', 'Hand-drawn', '/games/tag-hand-drawn'),\n",
       " ('high-score', 'High Score', '/games/tag-high-score'),\n",
       " ('horrible', 'Horrible', '/games/tag-horrible'),\n",
       " ('horror', 'Horror', '/games/tag-horror'),\n",
       " ('infinite-runner', 'infinite-runner', '/games/tag-infinite-runner'),\n",
       " ('instrument', 'Instrument', '/games/tag-instrument'),\n",
       " ('interactive-fiction',\n",
       "  'Interactive Fiction',\n",
       "  '/games/tag-interactive-fiction'),\n",
       " ('isometric', 'Isometric', '/games/tag-isometric'),\n",
       " ('job-system', 'job-system', '/games/tag-job-system'),\n",
       " ('jrpg', 'JRPG', '/games/tag-jrpg'),\n",
       " ('jumping', 'jumping', '/games/tag-jumping'),\n",
       " ('kickstarter', 'Kickstarter', '/games/tag-kickstarter'),\n",
       " ('kinect', 'kinect', '/games/tag-kinect'),\n",
       " ('kinetic-novel', 'Kinetic Novel', '/games/tag-kinetic-novel'),\n",
       " ('leap-motion', 'Leap Motion', '/games/tag-leap-motion'),\n",
       " ('level-editor', 'Level Editor', '/tools/tag-level-editor'),\n",
       " ('lgbt', 'LGBT', '/games/tag-lgbt'),\n",
       " ('libgdx', 'libGDX', '/games/tag-libgdx'),\n",
       " ('life-simulation', 'Life Simulation', '/games/tag-life-simulation'),\n",
       " ('live-action', 'live-action', '/games/tag-live-action'),\n",
       " ('local-co-op', 'Local Co-Op', '/games/tag-local-co-op'),\n",
       " ('local-multiplayer', 'Local multiplayer', '/games/local-multiplayer'),\n",
       " ('lo-fi', 'Lo-fi', '/games/tag-lo-fi'),\n",
       " ('lone-survivor', 'lone-survivor', '/games/tag-lone-survivor'),\n",
       " ('loot', 'Loot', '/games/tag-loot'),\n",
       " ('love2d', 'LÃ\\x96VE', '/games/tag-love2d'),\n",
       " ('low-poly', 'Low-poly', '/games/tag-low-poly'),\n",
       " ('lowrezjam', 'LOWREZJAM', '/games/tag-lowrezjam'),\n",
       " ('ludum-dare', 'Ludum Dare', '/games/tag-ludum-dare'),\n",
       " ('ludum-dare-29', 'Ludum Dare 29', '/games/tag-ludum-dare-29'),\n",
       " ('ludum-dare-30', 'Ludum Dare 30', '/games/tag-ludum-dare-30'),\n",
       " ('ludum-dare-31', 'Ludum Dare 31', '/games/tag-ludum-dare-31'),\n",
       " ('ludum-dare-32', 'Ludum Dare 32', '/games/tag-ludum-dare-32'),\n",
       " ('ludum-dare-33', 'Ludum Dare 33', '/games/tag-ludum-dare-33'),\n",
       " ('ludum-dare-34', 'Ludum Dare 34', '/games/tag-ludum-dare-34'),\n",
       " ('ludum-dare-35', 'Ludum Dare 35', '/games/tag-ludum-dare-35'),\n",
       " ('ludum-dare-36', 'Ludum Dare 36', '/games/tag-ludum-dare-36'),\n",
       " ('ludum-dare-37', 'Ludum Dare 37', '/games/tag-ludum-dare-37'),\n",
       " ('ludum-dare-38', 'Ludum Dare 38', '/games/tag-ludum-dare-38'),\n",
       " ('ludum-dare-39', 'Ludum Dare 39', '/games/tag-ludum-dare-39'),\n",
       " ('ludum-dare-40', 'Ludum Dare 40', '/games/tag-ludum-dare-40'),\n",
       " ('ludum-dare-41', 'Ludum Dare 41', '/games/tag-ludum-dare-41'),\n",
       " ('magic', 'Magic', '/games/tag-magic'),\n",
       " ('management', 'Management', '/games/tag-management'),\n",
       " ('manga', 'Manga', '/games/tag-manga'),\n",
       " ('mashup', 'mashup', '/games/tag-mashup'),\n",
       " ('massively-multiplayer',\n",
       "  'Massively multiplayer',\n",
       "  '/games/tag-massively-multiplayer'),\n",
       " ('maze', 'maze', '/games/tag-maze'),\n",
       " ('meaningful-choices', 'meaningful-choices', '/games/tag-meaningful-choices'),\n",
       " ('mechs', 'Mechs', '/games/tag-mechs'),\n",
       " ('medieval', 'Medieval', '/games/tag-medieval'),\n",
       " ('memoir', 'memoir', '/games/tag-memoir'),\n",
       " ('metroidvania', 'Metroidvania', '/games/tag-metroidvania'),\n",
       " ('midi', 'MIDI', '/games/tag-midi'),\n",
       " ('mind-bending', 'mind-bending', '/games/tag-mind-bending'),\n",
       " ('minigames', 'minigames', '/games/tag-minigames'),\n",
       " ('minimalist', 'Minimalist', '/games/tag-minimalist'),\n",
       " ('mmorpg', 'MMORPG', '/games/tag-mmorpg'),\n",
       " ('moddable', 'Moddable', '/games/tag-moddable'),\n",
       " ('moe', 'moe', '/games/tag-moe'),\n",
       " ('monsters', 'Monsters', '/games/tag-monsters'),\n",
       " ('mountains', 'Mountains', '/games/tag-mountains'),\n",
       " ('mouse-only', 'Mouse only', '/games/tag-mouse-only'),\n",
       " ('multiplayer', 'Multiplayer', '/games/tag-multiplayer'),\n",
       " ('multiple-endings', 'Multiple Endings', '/games/tag-multiple-endings'),\n",
       " ('music', 'Music', '/games/tag-music'),\n",
       " ('music-production', 'Music Production', '/games/tag-music-production'),\n",
       " ('my-first-game-jam', 'My First Game Jam', '/games/tag-my-first-game-jam'),\n",
       " ('mystery', 'Mystery', '/games/tag-mystery'),\n",
       " ('mythology', 'mythology', '/games/tag-mythology'),\n",
       " ('nature', 'nature', '/games/tag-nature'),\n",
       " ('neon', 'Neon', '/games/tag-neon'),\n",
       " ('nes', 'NES', '/games/tag-nes'),\n",
       " ('ninja', 'Ninja', '/games/tag-ninja'),\n",
       " ('noir', 'Noir', '/games/tag-noir'),\n",
       " ('non-eucledian', 'non-eucledian', '/games/tag-non-eucledian'),\n",
       " ('non-linear', 'Nonlinear', '/games/tag-non-linear'),\n",
       " ('non-violent', 'Non violent', '/games/tag-non-violent'),\n",
       " ('norway', 'norway', '/games/tag-norway'),\n",
       " ('oculus-rift', 'Oculus Rift', '/games/tag-oculus-rift'),\n",
       " ('one-button', 'one-button', '/games/tag-one-button'),\n",
       " ('one-hit-kill', 'one-hit-kill', '/games/tag-one-hit-kill'),\n",
       " ('on-rails-shooter', 'On-Rails Shooter', '/games/tag-on-rails-shooter'),\n",
       " ('open-world', 'Open World', '/games/tag-open-world'),\n",
       " ('otome', 'Otome', '/games/tag-otome'),\n",
       " ('parkour', 'parkour', '/games/tag-parkour'),\n",
       " ('parody', 'Parody', '/games/tag-parody'),\n",
       " ('parrallax', 'parrallax', '/games/tag-parrallax'),\n",
       " ('party-game', 'party-game', '/games/tag-party-game'),\n",
       " ('pastel', 'pastel', '/games/tag-pastel'),\n",
       " ('perma-death', 'Perma Death', '/games/tag-perma-death'),\n",
       " ('photorealistic', 'Photorealistic', '/games/tag-photorealistic'),\n",
       " ('physics', 'Physics', '/games/tag-physics'),\n",
       " ('pico-8', 'PICO-8', '/games/tag-pico-8'),\n",
       " ('pirates', 'Pirates', '/games/tag-pirates'),\n",
       " ('pixel-art', 'Pixel Art', '/games/tag-pixel-art'),\n",
       " ('platformer', 'Platformer', '/games/genre-platformer'),\n",
       " ('point-and-click', 'Point & Click', '/games/tag-point-and-click'),\n",
       " ('post-apocalyptic', 'Post-apocalyptic', '/games/tag-post-apocalyptic'),\n",
       " ('procedural', 'Procedural Generation', '/games/tag-procedural'),\n",
       " ('procjam', 'PROCJAM', '/games/tag-procjam'),\n",
       " ('psychedelic', 'psychedelic', '/games/tag-psychedelic'),\n",
       " ('puzzle', 'Puzzle', '/games/genre-puzzle'),\n",
       " ('puzzle-platformer', 'Puzzle-Platformer', '/games/tag-puzzle-platformer'),\n",
       " ('puzzlescript', 'PuzzleScript', '/games/tag-puzzlescript'),\n",
       " ('pvp', 'PvP', '/games/tag-pvp'),\n",
       " ('racing', 'Racing', '/games/tag-racing'),\n",
       " ('real-time', 'Real-Time', '/games/tag-real-time'),\n",
       " ('real-time-strategy', 'Real time strategy', '/games/tag-real-time-strategy'),\n",
       " ('relationship', 'relationship', '/games/tag-relationship'),\n",
       " ('relaxing', 'Relaxing', '/games/tag-relaxing'),\n",
       " ('remake', 'Remake', '/games/tag-remake'),\n",
       " ('renpy', 'renpy', '/games/tag-renpy'),\n",
       " ('retro', 'Retro', '/games/tag-retro'),\n",
       " ('rhythm', 'Rhythm', '/games/tag-rhythm'),\n",
       " ('robots', 'Robots', '/games/tag-robots'),\n",
       " ('roguelike', 'Roguelike', '/games/tag-roguelike'),\n",
       " ('roguelite', 'Roguelite', '/games/tag-roguelite'),\n",
       " ('romance', 'Romance', '/games/tag-romance'),\n",
       " ('rpg', 'Role Playing', '/games/genre-rpg'),\n",
       " ('rpgmaker', 'RPG Maker', '/games/tag-rpgmaker'),\n",
       " ('runner', 'Runner', '/games/tag-runner'),\n",
       " ('sandbox', 'Sandbox', '/games/tag-sandbox'),\n",
       " ('satire', 'satire', '/games/tag-satire'),\n",
       " ('science-fiction', 'Sci-fi', '/games/tag-science-fiction'),\n",
       " ('score-attack', 'Score Attack', '/games/tag-score-attack'),\n",
       " ('screensaver', 'screensaver', '/games/tag-screensaver'),\n",
       " ('secrets', 'secrets', '/games/tag-secrets'),\n",
       " ('sfml', 'SFML', '/games/tag-sfml'),\n",
       " ('shadows', 'Shadows', '/games/tag-shadows'),\n",
       " ('sharecart1000', 'SHARECART1000', '/games/tag-sharecart1000'),\n",
       " ('shoot-em-up', \"Shoot 'Em Up\", '/games/tag-shoot-em-up'),\n",
       " ('shooter', 'Shooter', '/games/genre-shooter'),\n",
       " ('short', 'Short', '/games/tag-short'),\n",
       " ('side-scroller', 'Side Scroller', '/games/tag-side-scroller'),\n",
       " ('simulation', 'Simulation', '/games/genre-simulation'),\n",
       " ('singleplayer', 'Singleplayer', '/games/tag-singleplayer'),\n",
       " ('sitting-simulator', 'sitting-simulator', '/games/tag-sitting-simulator'),\n",
       " ('skeletons', 'Skeletons', '/games/tag-skeletons'),\n",
       " ('slice-of-life', 'slice-of-life', '/games/tag-slice-of-life'),\n",
       " ('sourcecode', 'sourcecode', '/games/tag-sourcecode'),\n",
       " ('space', 'Space', '/games/tag-space'),\n",
       " ('space-sim', 'Space Sim', '/games/tag-space-sim'),\n",
       " ('split-screen', 'Split Screen', '/games/tag-split-screen'),\n",
       " ('spooky', 'Spooky', '/games/tag-spooky'),\n",
       " ('spoopy', 'Spoopy', '/games/tag-spoopy'),\n",
       " ('sports', 'Sports', '/games/genre-sports'),\n",
       " ('sprites', 'sprites', '/game-assets/tag-sprites'),\n",
       " ('stealth', 'Stealth', '/games/tag-stealth'),\n",
       " ('steampunk', 'Steampunk', '/games/tag-steampunk'),\n",
       " ('stencyl', 'Stencyl', '/games/tag-stencyl'),\n",
       " ('stop-motion', 'stop-motion', '/games/tag-stop-motion'),\n",
       " ('story-rich', 'Story Rich', '/games/tag-story-rich'),\n",
       " ('strategy', 'Strategy', '/games/genre-strategy'),\n",
       " ('strategy-rpg', 'Strategy RPG', '/games/tag-strategy-rpg'),\n",
       " ('superhero', 'Superhero', '/games/tag-superhero'),\n",
       " ('supernatural', 'supernatural', '/games/tag-supernatural'),\n",
       " ('superpowers', 'Superpowers', '/games/tag-superpowers'),\n",
       " ('surreal', 'Surreal', '/games/tag-surreal'),\n",
       " ('survival', 'Survival', '/games/tag-survival'),\n",
       " ('survival-horror', 'Survival Horror', '/games/tag-survival-horror'),\n",
       " ('suspense', 'suspense', '/games/tag-suspense'),\n",
       " ('swords', 'Swords', '/games/tag-swords'),\n",
       " ('tablet', 'tablet', '/games/tag-tablet'),\n",
       " ('tactical', 'Tactical', '/games/tag-tactical'),\n",
       " ('tactical-rpg', 'Tactical RPG', '/games/tag-tactical-rpg'),\n",
       " ('tanks', 'Tanks', '/games/tag-tanks'),\n",
       " ('team-based', 'Team-Based', '/games/tag-team-based'),\n",
       " ('text-based', 'Text based', '/games/tag-text-based'),\n",
       " ('third-person', 'Third Person', '/games/tag-third-person'),\n",
       " ('third-person-shooter',\n",
       "  'Third-Person Shooter',\n",
       "  '/games/tag-third-person-shooter'),\n",
       " ('tic-80', 'TIC-80', '/games/tag-tic-80'),\n",
       " ('tilemap', 'Tilemap based tools', '/game-assets/tag-tilemap'),\n",
       " ('time-attack', 'Time Attack', '/games/tag-time-attack'),\n",
       " ('time-travel', 'Time Travel', '/games/tag-time-travel'),\n",
       " ('top-down', 'Top-Down', '/games/tag-top-down'),\n",
       " ('top-down-adventure', 'Top Down Adventure', '/games/tag-top-down-adventure'),\n",
       " ('top-down-shooter', 'Top down shooter', '/games/tag-top-down-shooter'),\n",
       " ('touch-friendly', 'Touch-Friendly', '/games/tag-touch-friendly'),\n",
       " ('touhou', 'Touhou', '/games/tag-touhou'),\n",
       " ('tower-defense', 'Tower Defense', '/games/tag-tower-defense'),\n",
       " ('trading', 'Trading', '/games/tag-trading'),\n",
       " ('transgender', 'Transgender', '/games/tag-transgender'),\n",
       " ('traps', 'Traps', '/games/tag-traps'),\n",
       " ('turn-based', 'Turn-based', '/games/tag-turn-based'),\n",
       " ('turn-based-combat', 'Turn-Based Combat', '/games/tag-turn-based-combat'),\n",
       " ('turn-based-strategy',\n",
       "  'Turn-based Strategy',\n",
       "  '/games/tag-turn-based-strategy'),\n",
       " ('twine', 'Twine', '/games/tag-twine'),\n",
       " ('twin-stick-shooter', 'Twin Stick Shooter', '/games/tag-twin-stick-shooter'),\n",
       " ('two-colors', 'two-colors', '/games/tag-two-colors'),\n",
       " ('typing', 'typing', '/games/tag-typing'),\n",
       " ('tyranobuilder', 'TyranoBuilder', '/games/tag-tyranobuilder'),\n",
       " ('underwater', 'underwater', '/games/tag-underwater'),\n",
       " ('unity', 'Unity', '/games/tag-unity'),\n",
       " ('unreal-engine', 'Unreal Engine', '/games/tag-unreal-engine'),\n",
       " ('upgrades', 'upgrades', '/games/tag-upgrades'),\n",
       " ('user-interface', 'user-interface', '/game-assets/tag-user-interface'),\n",
       " ('vampire', 'Vampire', '/games/tag-vampire'),\n",
       " ('vector', 'vector', '/games/tag-vector'),\n",
       " ('versus', 'Versus', '/games/tag-versus'),\n",
       " ('video', 'video', '/games/tag-video'),\n",
       " ('violent', 'Violent', '/games/tag-violent'),\n",
       " ('virtual-pet', 'virtual-pet', '/games/tag-virtual-pet'),\n",
       " ('virtual-reality', 'Virtual Reality (VR)', '/games/tag-virtual-reality'),\n",
       " ('visualization', 'Visualization', '/games/tag-visualization'),\n",
       " ('visual-novel', 'Visual Novel', '/games/genre-visual-novel'),\n",
       " ('voice-acting', 'voice-acting', '/games/tag-voice-acting'),\n",
       " ('voice-controlled', 'voice-controlled', '/games/tag-voice-controlled'),\n",
       " ('voxel', 'Voxel', '/games/tag-voxel'),\n",
       " ('walking-simulator', 'Walking simulator', '/games/tag-walking-simulator'),\n",
       " ('war', 'War', '/games/tag-war'),\n",
       " ('watercolor', 'watercolor', '/games/tag-watercolor'),\n",
       " ('weird', 'weird', '/games/tag-weird'),\n",
       " ('western', 'Western', '/games/tag-western'),\n",
       " ('world-war-i', 'world-war-i', '/games/tag-world-war-i'),\n",
       " ('world-war-ii', 'World War II', '/games/tag-world-war-ii'),\n",
       " ('yuri', 'yuri', '/games/tag-yuri'),\n",
       " ('zero-gravity', 'zero-gravity', '/games/tag-zero-gravity'),\n",
       " ('zine', 'zine', '/games/tag-zine'),\n",
       " ('zombies', 'Zombies', '/games/tag-zombies'),\n",
       " ('zx-spectrum', 'ZX Spectrum', '/games/tag-zx-spectrum')]"
      ]
     },
     "execution_count": 6,
     "metadata": {},
     "output_type": "execute_result"
    }
   ],
   "source": [
    "tagzz"
   ]
  },
  {
   "cell_type": "code",
   "execution_count": null,
   "metadata": {},
   "outputs": [],
   "source": [
    "testlist = mf.game_list_from_file('html/latest/202.html')"
   ]
  },
  {
   "cell_type": "code",
   "execution_count": null,
   "metadata": {},
   "outputs": [],
   "source": [
    "db_name = 'itchbot'\n",
    "db_user = 'itchbot'\n",
    "db_pw = 'IB!0502'\n",
    "db_host = '127.0.0.1'\n",
    "\n",
    "thisconn=psycopg2.connect( database=db_name, user=db_user, host=db_host, password=db_pw )"
   ]
  },
  {
   "cell_type": "code",
   "execution_count": null,
   "metadata": {},
   "outputs": [],
   "source": [
    "query = 'SELECT game_id FROM itch_game'\n",
    "cur=thisconn.cursor()\n",
    "cur.execute('SELECT game_id FROM itch_game')\n",
    "results = cur.fetchall()\n",
    "# results[0][0]\n",
    "resset =  set([item for sublist in results for item in sublist])"
   ]
  },
  {
   "cell_type": "code",
   "execution_count": null,
   "metadata": {},
   "outputs": [],
   "source": [
    "mf.insert_game_into_db(testlist, thisconn)"
   ]
  },
  {
   "cell_type": "code",
   "execution_count": null,
   "metadata": {},
   "outputs": [],
   "source": [
    "\n",
    "thisconn.close()"
   ]
  },
  {
   "cell_type": "code",
   "execution_count": null,
   "metadata": {},
   "outputs": [],
   "source": [
    "3500/30\n"
   ]
  },
  {
   "cell_type": "code",
   "execution_count": null,
   "metadata": {},
   "outputs": [],
   "source": [
    "500 /30"
   ]
  },
  {
   "cell_type": "code",
   "execution_count": null,
   "metadata": {},
   "outputs": [],
   "source": [
    "probgame = mf.game_list_from_file('html/latest/3353.html')"
   ]
  },
  {
   "cell_type": "code",
   "execution_count": null,
   "metadata": {},
   "outputs": [],
   "source": [
    "probgame"
   ]
  },
  {
   "cell_type": "code",
   "execution_count": null,
   "metadata": {},
   "outputs": [],
   "source": [
    "pstr = 'https://evilrakion.itch.io/caves-ofthis-game-is-about-a-man-who-fell-down-to-a-realm-of-hell-called-caves-of-hell-you-have-to-escape-this-hell-hole-while-killing-off-the-souls-of-the-past-word-wars-making-them-go-back-to-their-right-full-places-hell'"
   ]
  },
  {
   "cell_type": "code",
   "execution_count": null,
   "metadata": {},
   "outputs": [],
   "source": [
    "len(pstr)"
   ]
  },
  {
   "cell_type": "code",
   "execution_count": null,
   "metadata": {},
   "outputs": [],
   "source": [
    "1000/30"
   ]
  },
  {
   "cell_type": "code",
   "execution_count": null,
   "metadata": {},
   "outputs": [],
   "source": [
    "cat ~/.ssh/id_rsa.pub | ssh salote \"cat >>  ~/.ssh/authorized_keys\""
   ]
  }
 ],
 "metadata": {
  "kernelspec": {
   "display_name": "Python 3",
   "language": "python",
   "name": "python3"
  },
  "language_info": {
   "codemirror_mode": {
    "name": "ipython",
    "version": 3
   },
   "file_extension": ".py",
   "mimetype": "text/x-python",
   "name": "python",
   "nbconvert_exporter": "python",
   "pygments_lexer": "ipython3",
   "version": "3.6.4"
  }
 },
 "nbformat": 4,
 "nbformat_minor": 2
}
