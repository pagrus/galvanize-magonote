{
 "cells": [
  {
   "cell_type": "code",
   "execution_count": null,
   "metadata": {},
   "outputs": [],
   "source": [
    "# sudo apt-get install postgresql\n",
    "# sudo apt install postgresql-client-common\n",
    "# sudo apt-get install postgresql postgresql-contrib\n",
    "# sudo apt install libpq-dev python3-dev"
   ]
  },
  {
   "cell_type": "code",
   "execution_count": null,
   "metadata": {},
   "outputs": [],
   "source": [
    "# sudo -u postgres psql"
   ]
  },
  {
   "cell_type": "code",
   "execution_count": null,
   "metadata": {},
   "outputs": [],
   "source": [
    "# CREATE ROLE itchbot WITH LOGIN CREATEDB PASSWORD 'IB!0502';"
   ]
  },
  {
   "cell_type": "code",
   "execution_count": null,
   "metadata": {},
   "outputs": [],
   "source": [
    "# instructions for creating users etc:\n",
    "# https://www.digitalocean.com/community/tutorials/how-to-install-and-use-postgresql-on-ubuntu-16-04"
   ]
  },
  {
   "cell_type": "code",
   "execution_count": null,
   "metadata": {},
   "outputs": [],
   "source": [
    "CREATE TABLE itch_game (\n",
    "    game_id serial PRIMARY KEY,\n",
    "    creator_id INT,\n",
    "    slug varchar (50) NOT NULL,\n",
    "    name varchar (25) NOT NULL,\n",
    "    note varchar (50)\n",
    ");"
   ]
  },
  {
   "cell_type": "code",
   "execution_count": null,
   "metadata": {},
   "outputs": [],
   "source": [
    "CREATE TABLE itch_user (\n",
    "    user_id serial PRIMARY KEY,\n",
    "    slug varchar (50) NOT NULL,\n",
    "    name varchar (25) NOT NULL,\n",
    "    note varchar (50)\n",
    ");"
   ]
  },
  {
   "cell_type": "code",
   "execution_count": null,
   "metadata": {},
   "outputs": [],
   "source": [
    "CREATE TABLE itch_tag (\n",
    "    tag_id serial PRIMARY KEY,\n",
    "    slug varchar (50) NOT NULL\n",
    ");"
   ]
  },
  {
   "cell_type": "code",
   "execution_count": null,
   "metadata": {},
   "outputs": [],
   "source": [
    "CREATE TABLE itch_tag_assignments (\n",
    "    ass_id serial PRIMARY KEY,\n",
    "    tag_id INT,\n",
    "    game_id INT\n",
    ");"
   ]
  },
  {
   "cell_type": "code",
   "execution_count": 2,
   "metadata": {},
   "outputs": [],
   "source": [
    "# ok maybe just try this first before installing a bunch of garbage:\n",
    "# pip install psycopg2\n",
    "# ge\n",
    "\n",
    "import pandas as pd\n",
    "import numpy as np\n",
    "import psycopg2\n",
    "import requests"
   ]
  },
  {
   "cell_type": "code",
   "execution_count": 8,
   "metadata": {},
   "outputs": [],
   "source": [
    "# put your own computer username in here, or default postgres username\n",
    "\n",
    "db_name = 'itchbot'\n",
    "db_user = 'itchbot'\n",
    "db_pw = 'IB!0502'\n",
    "db_host = '127.0.0.1'\n",
    "\n",
    "conn=psycopg2.connect( database=db_name, user=db_user, host=db_host, password=db_pw )\n",
    "cur = conn.cursor()"
   ]
  },
  {
   "cell_type": "code",
   "execution_count": 15,
   "metadata": {},
   "outputs": [],
   "source": [
    "cur.execute(\"\"\"INSERT INTO itch_tag(slug) VALUES('urgk')\"\"\")"
   ]
  },
  {
   "cell_type": "code",
   "execution_count": 16,
   "metadata": {},
   "outputs": [],
   "source": [
    "cur.execute(\"\"\"SELECT * from itch_tag\"\"\")"
   ]
  },
  {
   "cell_type": "code",
   "execution_count": 17,
   "metadata": {},
   "outputs": [
    {
     "data": {
      "text/plain": [
       "[(1, 'urgg'), (2, 'urgg'), (3, 'urgk')]"
      ]
     },
     "execution_count": 17,
     "metadata": {},
     "output_type": "execute_result"
    }
   ],
   "source": [
    "cur.fetchmany(10)"
   ]
  },
  {
   "cell_type": "code",
   "execution_count": null,
   "metadata": {},
   "outputs": [],
   "source": [
    "cur.close() # close cursor\n",
    "conn.close() # close connection"
   ]
  }
 ],
 "metadata": {
  "kernelspec": {
   "display_name": "Python 3",
   "language": "python",
   "name": "python3"
  },
  "language_info": {
   "codemirror_mode": {
    "name": "ipython",
    "version": 3
   },
   "file_extension": ".py",
   "mimetype": "text/x-python",
   "name": "python",
   "nbconvert_exporter": "python",
   "pygments_lexer": "ipython3",
   "version": "3.6.4"
  }
 },
 "nbformat": 4,
 "nbformat_minor": 2
}
