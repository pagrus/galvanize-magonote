{
 "cells": [
  {
   "cell_type": "code",
   "execution_count": 1,
   "metadata": {},
   "outputs": [],
   "source": [
    "import os\n",
    "import magonote_functions as mf\n",
    "import random\n",
    "import pandas as pd\n",
    "import numpy as np\n",
    "from sklearn.feature_extraction.text import TfidfVectorizer\n",
    "from sklearn.cluster import KMeans"
   ]
  },
  {
   "cell_type": "code",
   "execution_count": 2,
   "metadata": {},
   "outputs": [],
   "source": [
    "game_info_csv = 'data/game_info.csv'\n",
    "game_info_df = pd.read_csv(game_info_csv, sep='\\t', index_col=0)\n"
   ]
  },
  {
   "cell_type": "code",
   "execution_count": 3,
   "metadata": {},
   "outputs": [],
   "source": [
    "from sklearn.feature_extraction import text\n",
    "add_stop_words = ('commentslog', 'loader_outer', 'loading_lightbox', 'itchio', 'report', 'zip', 'view', 'comment', 'post', 'upvotes', 'account', 'post_id', 'report_url', 'io', 'game', 'nowname', 'priceclick', 'download', 'mb', 'downloadable', 'viewgame', 'user_tools', 'https', 'viewhtmlgame', 'start_maximized', 'htmlembed', 'play_after', 'itch', '_merchantsettings', 'document', 'apple', 'itunes', 'itunes_autolinkmaker', 'script', 'src', 'javascript', 'function', 'http', 'swf', 'flash', 'class', 'data', 'googleaccessid', 'gserviceaccount', 'signature', 'moonscript2', 'commondatastorage', 'div', 'js', 'span', 'default', 'var', 'usd', 'up_score', 'down_score', 'autolinkmaker', 'com', 'autolink','commentlog', 'html', 'play_url')\n",
    "all_stop_words = text.ENGLISH_STOP_WORDS.union(add_stop_words)\n",
    "itch_stop_words=set(all_stop_words)"
   ]
  },
  {
   "cell_type": "code",
   "execution_count": 4,
   "metadata": {},
   "outputs": [
    {
     "data": {
      "text/plain": [
       "KMeans(algorithm='auto', copy_x=True, init='k-means++', max_iter=300,\n",
       "    n_clusters=12, n_init=10, n_jobs=1, precompute_distances='auto',\n",
       "    random_state=None, tol=0.0001, verbose=0)"
      ]
     },
     "execution_count": 4,
     "metadata": {},
     "output_type": "execute_result"
    }
   ],
   "source": [
    "vectorizer = TfidfVectorizer(stop_words=itch_stop_words)\n",
    "X = vectorizer.fit_transform(game_info_df['full text'])\n",
    "features = vectorizer.get_feature_names()\n",
    "n_clu = 12\n",
    "kmeans = KMeans(n_clusters=n_clu)\n",
    "kmeans.fit(X)"
   ]
  },
  {
   "cell_type": "code",
   "execution_count": 5,
   "metadata": {},
   "outputs": [
    {
     "name": "stdout",
     "output_type": "stream",
     "text": [
      "0: le, et, la, les, pour, jeu, est, des, en, du\n",
      "1: reply, days, year, 3d, ago, new, really, like, time, commentslog\n",
      "2: space, 3d, shooter, new, leave, ship, invaders, type, shoot, id\n",
      "3: dare, ludum, 38, 3d, world, small, apr, new, planet, 24\n",
      "4: ball, roll, 3d, new, balla, balls, leave, player, pong, paddle\n",
      "5: 3d, new, leave, freei, type, updated, id, loading, loading_lightbox, loader_outer\n",
      "6: 3d, new, play, demo, games, level, leave, time, player, version\n",
      "7: 99, purchase, minimum, morein, lessi, order, price, 00, 3d, access\n",
      "8: 3d, access, following, files, new, windowsdownload, leave, freei, type, updated\n",
      "9: 3d, rp, 90, width, height, false, new, 640, type, id\n",
      "10: 3d, left, toolkit, right, maker, jam, new, player, button, jump\n",
      "11: reply, days, ago, year, really, like, just, agoi, time, good\n"
     ]
    }
   ],
   "source": [
    "top_centroids = kmeans.cluster_centers_.argsort()[:,-1:-11:-1]\n",
    "for num, centroid in enumerate(top_centroids):\n",
    "    print(\"%d: %s\" % (num, \", \".join(features[i] for i in centroid)))"
   ]
  },
  {
   "cell_type": "code",
   "execution_count": null,
   "metadata": {},
   "outputs": [],
   "source": [
    "vectorizer = TfidfVectorizer(stop_words=itch_stop_words, max_features=1000)\n",
    "X = vectorizer.fit_transform(game_info_df['full text'])\n",
    "features = vectorizer.get_feature_names()\n",
    "kmeans = KMeans(n_clusters=n_clu)\n",
    "kmeans.fit(X)\n",
    "top_centroids = kmeans.cluster_centers_.argsort()[:,-1:-11:-1]\n",
    "for num, centroid in enumerate(top_centroids):\n",
    "    print(\"%d: %s\" % (num, \", \".join(features[i] for i in centroid)))"
   ]
  },
  {
   "cell_type": "code",
   "execution_count": null,
   "metadata": {},
   "outputs": [],
   "source": [
    "assigned_cluster = kmeans.transform(X).argmin(axis=1)\n",
    "# assigned_cluster"
   ]
  },
  {
   "cell_type": "code",
   "execution_count": null,
   "metadata": {},
   "outputs": [],
   "source": [
    "for i in range(kmeans.n_clusters):\n",
    "    cluster = np.arange(0, X.shape[0])[assigned_cluster==i]\n",
    "    sample_games = np.random.choice(cluster, 3, replace=False)\n",
    "    # print(sample_games)\n",
    "    print(\"cluster %d:\" % i)\n",
    "    for game in sample_games:\n",
    "        print(\"    {}\\n        {}\".format(game_info_df.iloc[game]['title text'], game_info_df.iloc[game]['game url']) )"
   ]
  },
  {
   "cell_type": "code",
   "execution_count": null,
   "metadata": {},
   "outputs": [],
   "source": []
  }
 ],
 "metadata": {
  "kernelspec": {
   "display_name": "Python 3",
   "language": "python",
   "name": "python3"
  },
  "language_info": {
   "codemirror_mode": {
    "name": "ipython",
    "version": 3
   },
   "file_extension": ".py",
   "mimetype": "text/x-python",
   "name": "python",
   "nbconvert_exporter": "python",
   "pygments_lexer": "ipython3",
   "version": "3.6.4"
  }
 },
 "nbformat": 4,
 "nbformat_minor": 2
}
