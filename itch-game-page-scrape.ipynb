{
 "cells": [
  {
   "cell_type": "code",
   "execution_count": 1,
   "metadata": {},
   "outputs": [],
   "source": [
    "import os\n",
    "import magonote_functions as mf\n",
    "import random"
   ]
  },
  {
   "cell_type": "code",
   "execution_count": 2,
   "metadata": {},
   "outputs": [
    {
     "data": {
      "text/plain": [
       "24675"
      ]
     },
     "execution_count": 2,
     "metadata": {},
     "output_type": "execute_result"
    }
   ],
   "source": [
    "# ok we're assuming we have all the game data scraped already, and it's in html/game_pages\n",
    "\n",
    "game_page_dir = \"html/game_pages\"\n",
    "\n",
    "game_list = [x for x in os.listdir(game_page_dir) if x[-5:] == \".html\"]\n",
    "random.shuffle(game_list)\n",
    "single_game = game_list[13]\n",
    "\n",
    "len(game_list)"
   ]
  },
  {
   "cell_type": "code",
   "execution_count": 3,
   "metadata": {},
   "outputs": [
    {
     "data": {
      "text/plain": [
       "'208156.html'"
      ]
     },
     "execution_count": 3,
     "metadata": {},
     "output_type": "execute_result"
    }
   ],
   "source": [
    "single_game"
   ]
  },
  {
   "cell_type": "code",
   "execution_count": 4,
   "metadata": {},
   "outputs": [],
   "source": [
    "partial_game_list = game_list[110:120]"
   ]
  },
  {
   "cell_type": "code",
   "execution_count": 5,
   "metadata": {},
   "outputs": [],
   "source": [
    "mylist = mf.get_game_info(partial_game_list, game_page_dir)"
   ]
  },
  {
   "cell_type": "code",
   "execution_count": 6,
   "metadata": {},
   "outputs": [
    {
     "data": {
      "text/plain": [
       "[('Help Serbia', 'aparapid', 'https://aparapid.itch.io'),\n",
       " ('The Suit of Mr. Snake', 'Efe Alaçamlı', 'https://efealacamli.itch.io'),\n",
       " (\"Mr Anchry's House of Illusions\",\n",
       "  'ThorGameDev',\n",
       "  'https://thorgamedev.itch.io'),\n",
       " ('Roller (Endless Game) 2 Levels', 'Algirdas', 'https://alalys.itch.io'),\n",
       " ('One Take', 'Sheepolution', 'https://sheepolution.itch.io'),\n",
       " ('The Journey of a Vehicule : The Movie : The Game',\n",
       "  'benoitbm',\n",
       "  'https://benoitbm.itch.io'),\n",
       " ('Paris 1871', 'Rémi Leblanc', 'https://remi-leblanc.itch.io'),\n",
       " ('Squidster', 'TentacleStrudel', 'https://tentaclestrudel.itch.io'),\n",
       " ('Marina - Aula Demonstrativa - 21/12/17',\n",
       "  'sgbutanta-demonstrativa',\n",
       "  'https://sgbutanta-demonstrativa.itch.io'),\n",
       " ('Construction Derby', 'nanito265', 'https://nanito265.itch.io')]"
      ]
     },
     "execution_count": 6,
     "metadata": {},
     "output_type": "execute_result"
    }
   ],
   "source": [
    "mylist"
   ]
  },
  {
   "cell_type": "code",
   "execution_count": null,
   "metadata": {},
   "outputs": [],
   "source": []
  }
 ],
 "metadata": {
  "kernelspec": {
   "display_name": "Python 3",
   "language": "python",
   "name": "python3"
  },
  "language_info": {
   "codemirror_mode": {
    "name": "ipython",
    "version": 3
   },
   "file_extension": ".py",
   "mimetype": "text/x-python",
   "name": "python",
   "nbconvert_exporter": "python",
   "pygments_lexer": "ipython3",
   "version": "3.6.4"
  }
 },
 "nbformat": 4,
 "nbformat_minor": 2
}
