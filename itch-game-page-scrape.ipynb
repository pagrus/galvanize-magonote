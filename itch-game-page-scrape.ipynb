{
 "cells": [
  {
   "cell_type": "code",
   "execution_count": 33,
   "metadata": {},
   "outputs": [],
   "source": [
    "import os\n",
    "import magonote_functions as mf\n",
    "import random\n",
    "import pandas as pd\n",
    "import numpy as np"
   ]
  },
  {
   "cell_type": "code",
   "execution_count": 34,
   "metadata": {},
   "outputs": [
    {
     "data": {
      "text/plain": [
       "24675"
      ]
     },
     "execution_count": 34,
     "metadata": {},
     "output_type": "execute_result"
    }
   ],
   "source": [
    "# ok we're assuming we have all the game data fetched already, and it's in html/game_pages\n",
    "# I guess this would be considered the actual scraping part\n",
    "\n",
    "game_page_dir = \"html/game_pages\"\n",
    "\n",
    "game_list = [x for x in os.listdir(game_page_dir) if x[-5:] == \".html\"]\n",
    "random.shuffle(game_list)\n",
    "single_game = game_list[13]\n",
    "\n",
    "len(game_list)"
   ]
  },
  {
   "cell_type": "code",
   "execution_count": 35,
   "metadata": {},
   "outputs": [
    {
     "data": {
      "text/plain": [
       "'146529.html'"
      ]
     },
     "execution_count": 35,
     "metadata": {},
     "output_type": "execute_result"
    }
   ],
   "source": [
    "single_game"
   ]
  },
  {
   "cell_type": "code",
   "execution_count": 36,
   "metadata": {},
   "outputs": [],
   "source": [
    "partial_game_list = game_list[113:126]"
   ]
  },
  {
   "cell_type": "code",
   "execution_count": 37,
   "metadata": {},
   "outputs": [],
   "source": [
    "mylist = mf.get_game_info(partial_game_list, game_page_dir)"
   ]
  },
  {
   "cell_type": "code",
   "execution_count": 38,
   "metadata": {},
   "outputs": [],
   "source": [
    "# mylist"
   ]
  },
  {
   "cell_type": "code",
   "execution_count": 39,
   "metadata": {},
   "outputs": [],
   "source": [
    "df_cols = ['game name', 'creator name', 'creator url', 'game url']\n",
    "g_info_df = pd.DataFrame(columns=df_cols)"
   ]
  },
  {
   "cell_type": "code",
   "execution_count": 40,
   "metadata": {},
   "outputs": [],
   "source": [
    "for game in mylist:\n",
    "    g_info_df.loc[game[0]] = [game[1], game[2], game[3], game[4]]"
   ]
  },
  {
   "cell_type": "code",
   "execution_count": 41,
   "metadata": {},
   "outputs": [
    {
     "data": {
      "text/html": [
       "<div>\n",
       "<style scoped>\n",
       "    .dataframe tbody tr th:only-of-type {\n",
       "        vertical-align: middle;\n",
       "    }\n",
       "\n",
       "    .dataframe tbody tr th {\n",
       "        vertical-align: top;\n",
       "    }\n",
       "\n",
       "    .dataframe thead th {\n",
       "        text-align: right;\n",
       "    }\n",
       "</style>\n",
       "<table border=\"1\" class=\"dataframe\">\n",
       "  <thead>\n",
       "    <tr style=\"text-align: right;\">\n",
       "      <th></th>\n",
       "      <th>game name</th>\n",
       "      <th>creator name</th>\n",
       "      <th>creator url</th>\n",
       "      <th>game url</th>\n",
       "    </tr>\n",
       "  </thead>\n",
       "  <tbody>\n",
       "    <tr>\n",
       "      <th>150547</th>\n",
       "      <td>Deathwish Donny</td>\n",
       "      <td>AlexBilledeaux</td>\n",
       "      <td>https://alexbilledeaux.itch.io</td>\n",
       "      <td>https://alexbilledeaux.itch.io/deathwish-donny</td>\n",
       "    </tr>\n",
       "    <tr>\n",
       "      <th>137941</th>\n",
       "      <td>Obelisk - ld38 by Orcolom, Str</td>\n",
       "      <td>Orcolom</td>\n",
       "      <td>https://orcolom.itch.io</td>\n",
       "      <td>https://orcolom.itch.io/obelisk</td>\n",
       "    </tr>\n",
       "    <tr>\n",
       "      <th>136710</th>\n",
       "      <td>It's A Small World</td>\n",
       "      <td>Daniel Mullins</td>\n",
       "      <td>https://dmullinsgames.itch.io</td>\n",
       "      <td>https://dmullinsgames.itch.io/its-a-small-world</td>\n",
       "    </tr>\n",
       "    <tr>\n",
       "      <th>217939</th>\n",
       "      <td>Fragile Message</td>\n",
       "      <td>TheTeam.Ninja</td>\n",
       "      <td>https://theteamninja.itch.io</td>\n",
       "      <td>https://theteamninja.itch.io/fragile-message</td>\n",
       "    </tr>\n",
       "    <tr>\n",
       "      <th>85738</th>\n",
       "      <td>Spearmint 1</td>\n",
       "      <td>Spearmints</td>\n",
       "      <td>https://spearmints.itch.io</td>\n",
       "      <td>https://spearmints.itch.io/no-1</td>\n",
       "    </tr>\n",
       "    <tr>\n",
       "      <th>156417</th>\n",
       "      <td>R.E.M. -scape</td>\n",
       "      <td>Night Driver</td>\n",
       "      <td>https://night-driver.itch.io</td>\n",
       "      <td>https://night-driver.itch.io/rem-scape</td>\n",
       "    </tr>\n",
       "    <tr>\n",
       "      <th>217149</th>\n",
       "      <td>Flappy Clone</td>\n",
       "      <td>PieBOT</td>\n",
       "      <td>https://piebot.itch.io</td>\n",
       "      <td>https://piebot.itch.io/flappy-clone</td>\n",
       "    </tr>\n",
       "    <tr>\n",
       "      <th>213799</th>\n",
       "      <td>Gobs of Ghosts Beta Test</td>\n",
       "      <td>Shabadage</td>\n",
       "      <td>https://shabadage.itch.io</td>\n",
       "      <td>https://shabadage.itch.io/gobs-of-ghosts-beta-...</td>\n",
       "    </tr>\n",
       "    <tr>\n",
       "      <th>159895</th>\n",
       "      <td>Chromakey</td>\n",
       "      <td>hermbit</td>\n",
       "      <td>https://hermbit.itch.io</td>\n",
       "      <td>https://hermbit.itch.io/chromakey</td>\n",
       "    </tr>\n",
       "    <tr>\n",
       "      <th>97481</th>\n",
       "      <td>Oursvania</td>\n",
       "      <td>Sante</td>\n",
       "      <td>https://sante.itch.io</td>\n",
       "      <td>https://sante.itch.io/oursvania</td>\n",
       "    </tr>\n",
       "    <tr>\n",
       "      <th>159138</th>\n",
       "      <td>Exmania by Ardoos, Christian Nordgre</td>\n",
       "      <td>Ardoos</td>\n",
       "      <td>https://ardoos.itch.io</td>\n",
       "      <td>https://ardoos.itch.io/exmania</td>\n",
       "    </tr>\n",
       "    <tr>\n",
       "      <th>218811</th>\n",
       "      <td>Might: Pen and Sword</td>\n",
       "      <td>foolmoron</td>\n",
       "      <td>https://foolmoron.itch.io</td>\n",
       "      <td>https://foolmoron.itch.io/might</td>\n",
       "    </tr>\n",
       "    <tr>\n",
       "      <th>137856</th>\n",
       "      <td>Ceo - A bunny in the pocket omniverse</td>\n",
       "      <td>Ropnolc</td>\n",
       "      <td>https://ropnolc.itch.io</td>\n",
       "      <td>https://ropnolc.itch.io/ceo</td>\n",
       "    </tr>\n",
       "  </tbody>\n",
       "</table>\n",
       "</div>"
      ],
      "text/plain": [
       "                                    game name    creator name  \\\n",
       "150547                        Deathwish Donny  AlexBilledeaux   \n",
       "137941         Obelisk - ld38 by Orcolom, Str         Orcolom   \n",
       "136710                     It's A Small World  Daniel Mullins   \n",
       "217939                        Fragile Message   TheTeam.Ninja   \n",
       "85738                             Spearmint 1      Spearmints   \n",
       "156417                          R.E.M. -scape    Night Driver   \n",
       "217149                           Flappy Clone          PieBOT   \n",
       "213799               Gobs of Ghosts Beta Test       Shabadage   \n",
       "159895                              Chromakey         hermbit   \n",
       "97481                               Oursvania           Sante   \n",
       "159138   Exmania by Ardoos, Christian Nordgre          Ardoos   \n",
       "218811                   Might: Pen and Sword       foolmoron   \n",
       "137856  Ceo - A bunny in the pocket omniverse         Ropnolc   \n",
       "\n",
       "                           creator url  \\\n",
       "150547  https://alexbilledeaux.itch.io   \n",
       "137941         https://orcolom.itch.io   \n",
       "136710   https://dmullinsgames.itch.io   \n",
       "217939    https://theteamninja.itch.io   \n",
       "85738       https://spearmints.itch.io   \n",
       "156417    https://night-driver.itch.io   \n",
       "217149          https://piebot.itch.io   \n",
       "213799       https://shabadage.itch.io   \n",
       "159895         https://hermbit.itch.io   \n",
       "97481            https://sante.itch.io   \n",
       "159138          https://ardoos.itch.io   \n",
       "218811       https://foolmoron.itch.io   \n",
       "137856         https://ropnolc.itch.io   \n",
       "\n",
       "                                                 game url  \n",
       "150547     https://alexbilledeaux.itch.io/deathwish-donny  \n",
       "137941                    https://orcolom.itch.io/obelisk  \n",
       "136710    https://dmullinsgames.itch.io/its-a-small-world  \n",
       "217939       https://theteamninja.itch.io/fragile-message  \n",
       "85738                     https://spearmints.itch.io/no-1  \n",
       "156417             https://night-driver.itch.io/rem-scape  \n",
       "217149                https://piebot.itch.io/flappy-clone  \n",
       "213799  https://shabadage.itch.io/gobs-of-ghosts-beta-...  \n",
       "159895                  https://hermbit.itch.io/chromakey  \n",
       "97481                     https://sante.itch.io/oursvania  \n",
       "159138                     https://ardoos.itch.io/exmania  \n",
       "218811                    https://foolmoron.itch.io/might  \n",
       "137856                        https://ropnolc.itch.io/ceo  "
      ]
     },
     "execution_count": 41,
     "metadata": {},
     "output_type": "execute_result"
    }
   ],
   "source": [
    "g_info_df"
   ]
  },
  {
   "cell_type": "code",
   "execution_count": 42,
   "metadata": {},
   "outputs": [],
   "source": [
    "pickle_name = 'comments_data.pkl'\n",
    "csv_name = 'data/game_info.csv'\n",
    "\n",
    "#pf_df.to_pickle(pickle_name)\n",
    "g_info_df.to_csv(csv_name, sep='\\t', encoding='utf-8')\n",
    "\n",
    "# a 10000 line csv is 9.1MB"
   ]
  },
  {
   "cell_type": "code",
   "execution_count": null,
   "metadata": {},
   "outputs": [],
   "source": []
  },
  {
   "cell_type": "code",
   "execution_count": null,
   "metadata": {},
   "outputs": [],
   "source": []
  }
 ],
 "metadata": {
  "kernelspec": {
   "display_name": "Python 3",
   "language": "python",
   "name": "python3"
  },
  "language_info": {
   "codemirror_mode": {
    "name": "ipython",
    "version": 3
   },
   "file_extension": ".py",
   "mimetype": "text/x-python",
   "name": "python",
   "nbconvert_exporter": "python",
   "pygments_lexer": "ipython3",
   "version": "3.6.4"
  }
 },
 "nbformat": 4,
 "nbformat_minor": 2
}
