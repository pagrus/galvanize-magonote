{
 "cells": [
  {
   "cell_type": "code",
   "execution_count": 1,
   "metadata": {},
   "outputs": [],
   "source": [
    "import os\n",
    "import magonote_functions as mf\n",
    "import random\n",
    "import pandas as pd\n",
    "import numpy as np"
   ]
  },
  {
   "cell_type": "code",
   "execution_count": 2,
   "metadata": {},
   "outputs": [
    {
     "data": {
      "text/plain": [
       "24675"
      ]
     },
     "execution_count": 2,
     "metadata": {},
     "output_type": "execute_result"
    }
   ],
   "source": [
    "# ok we're assuming we have all the game data fetched already, and it's in html/game_pages\n",
    "# I guess this would be considered the actual scraping part\n",
    "\n",
    "game_page_dir = \"html/game_pages\"\n",
    "\n",
    "game_list = [x for x in os.listdir(game_page_dir) if x[-5:] == \".html\"]\n",
    "random.shuffle(game_list)\n",
    "single_game = game_list[13]\n",
    "\n",
    "len(game_list)"
   ]
  },
  {
   "cell_type": "code",
   "execution_count": 3,
   "metadata": {},
   "outputs": [
    {
     "data": {
      "text/plain": [
       "'144382.html'"
      ]
     },
     "execution_count": 3,
     "metadata": {},
     "output_type": "execute_result"
    }
   ],
   "source": [
    "single_game"
   ]
  },
  {
   "cell_type": "code",
   "execution_count": 4,
   "metadata": {},
   "outputs": [],
   "source": [
    "partial_game_list = game_list[113:126]"
   ]
  },
  {
   "cell_type": "code",
   "execution_count": 5,
   "metadata": {},
   "outputs": [],
   "source": [
    "mylist = mf.get_game_info(partial_game_list, game_page_dir)"
   ]
  },
  {
   "cell_type": "code",
   "execution_count": 6,
   "metadata": {},
   "outputs": [],
   "source": [
    "all_game_list = mf.get_game_info(game_list, game_page_dir)"
   ]
  },
  {
   "cell_type": "code",
   "execution_count": 7,
   "metadata": {},
   "outputs": [],
   "source": [
    "df_cols = ['game name', 'creator name', 'creator url', 'game url']\n",
    "g_info_df = pd.DataFrame(columns=df_cols)"
   ]
  },
  {
   "cell_type": "code",
   "execution_count": 8,
   "metadata": {},
   "outputs": [],
   "source": [
    "for game in mylist:\n",
    "    g_info_df.loc[game[0]] = [game[1], game[2], game[3], game[4]]"
   ]
  },
  {
   "cell_type": "code",
   "execution_count": 9,
   "metadata": {},
   "outputs": [
    {
     "data": {
      "text/html": [
       "<div>\n",
       "<style scoped>\n",
       "    .dataframe tbody tr th:only-of-type {\n",
       "        vertical-align: middle;\n",
       "    }\n",
       "\n",
       "    .dataframe tbody tr th {\n",
       "        vertical-align: top;\n",
       "    }\n",
       "\n",
       "    .dataframe thead th {\n",
       "        text-align: right;\n",
       "    }\n",
       "</style>\n",
       "<table border=\"1\" class=\"dataframe\">\n",
       "  <thead>\n",
       "    <tr style=\"text-align: right;\">\n",
       "      <th></th>\n",
       "      <th>game name</th>\n",
       "      <th>creator name</th>\n",
       "      <th>creator url</th>\n",
       "      <th>game url</th>\n",
       "    </tr>\n",
       "  </thead>\n",
       "  <tbody>\n",
       "    <tr>\n",
       "      <th>156569</th>\n",
       "      <td>Glory fire</td>\n",
       "      <td>Scnoobi</td>\n",
       "      <td>https://scnoobi.itch.io</td>\n",
       "      <td>https://scnoobi.itch.io/gloryfire</td>\n",
       "    </tr>\n",
       "    <tr>\n",
       "      <th>334</th>\n",
       "      <td>Boson X</td>\n",
       "      <td>Ian MacLarty</td>\n",
       "      <td>https://ianmaclarty.itch.io</td>\n",
       "      <td>https://ianmaclarty.itch.io/boson-x</td>\n",
       "    </tr>\n",
       "    <tr>\n",
       "      <th>133968</th>\n",
       "      <td>#HardCrash</td>\n",
       "      <td>Olde Shipmates</td>\n",
       "      <td>https://olde-shipmates.itch.io</td>\n",
       "      <td>https://olde-shipmates.itch.io/hardcrash</td>\n",
       "    </tr>\n",
       "    <tr>\n",
       "      <th>157833</th>\n",
       "      <td>Nocturnal Rough Draft</td>\n",
       "      <td>lostchild14000</td>\n",
       "      <td>https://lostchild14000.itch.io</td>\n",
       "      <td>https://lostchild14000.itch.io/nocturnal-rough...</td>\n",
       "    </tr>\n",
       "    <tr>\n",
       "      <th>158806</th>\n",
       "      <td>Infnity Invaders</td>\n",
       "      <td>kroltan</td>\n",
       "      <td>https://kroltan.itch.io</td>\n",
       "      <td>https://kroltan.itch.io/infnity-invaders</td>\n",
       "    </tr>\n",
       "    <tr>\n",
       "      <th>157011</th>\n",
       "      <td>Memento Morey</td>\n",
       "      <td>MementoMorey</td>\n",
       "      <td>https://mementomorey.itch.io</td>\n",
       "      <td>https://mementomorey.itch.io/memento-morey</td>\n",
       "    </tr>\n",
       "    <tr>\n",
       "      <th>211065</th>\n",
       "      <td>Jumper</td>\n",
       "      <td>Alienplay</td>\n",
       "      <td>https://alienplay.itch.io</td>\n",
       "      <td>https://alienplay.itch.io/jumper</td>\n",
       "    </tr>\n",
       "    <tr>\n",
       "      <th>523</th>\n",
       "      <td>Star Wench</td>\n",
       "      <td>anna anthropy</td>\n",
       "      <td>https://w.itch.io</td>\n",
       "      <td>https://w.itch.io/star-wench</td>\n",
       "    </tr>\n",
       "    <tr>\n",
       "      <th>143712</th>\n",
       "      <td>Beyond the Sky - Alpha Demo</td>\n",
       "      <td>Iperurania Arts</td>\n",
       "      <td>https://iperuraniaarts.itch.io</td>\n",
       "      <td>https://iperuraniaarts.itch.io/beyond-the-sky</td>\n",
       "    </tr>\n",
       "    <tr>\n",
       "      <th>147759</th>\n",
       "      <td>SpezMan</td>\n",
       "      <td>JakubSzark</td>\n",
       "      <td>https://jakubszark.itch.io</td>\n",
       "      <td>https://jakubszark.itch.io/spezman</td>\n",
       "    </tr>\n",
       "    <tr>\n",
       "      <th>136725</th>\n",
       "      <td>Keploo</td>\n",
       "      <td>KeplooGame</td>\n",
       "      <td>https://keploogame.itch.io</td>\n",
       "      <td>https://keploogame.itch.io/keploo</td>\n",
       "    </tr>\n",
       "    <tr>\n",
       "      <th>144194</th>\n",
       "      <td>Drip Drop</td>\n",
       "      <td>onyxgo</td>\n",
       "      <td>https://onyxgo.itch.io</td>\n",
       "      <td>https://onyxgo.itch.io/drip-drop</td>\n",
       "    </tr>\n",
       "    <tr>\n",
       "      <th>138719</th>\n",
       "      <td>Martial Music Matchup by lilypadslul</td>\n",
       "      <td>lilypadslulling</td>\n",
       "      <td>https://lilypadslulling.itch.io</td>\n",
       "      <td>https://lilypadslulling.itch.io/martial-music-...</td>\n",
       "    </tr>\n",
       "  </tbody>\n",
       "</table>\n",
       "</div>"
      ],
      "text/plain": [
       "                                   game name     creator name  \\\n",
       "156569                            Glory fire          Scnoobi   \n",
       "334                                  Boson X     Ian MacLarty   \n",
       "133968                            #HardCrash   Olde Shipmates   \n",
       "157833                 Nocturnal Rough Draft   lostchild14000   \n",
       "158806                      Infnity Invaders          kroltan   \n",
       "157011                         Memento Morey     MementoMorey   \n",
       "211065                                Jumper        Alienplay   \n",
       "523                               Star Wench    anna anthropy   \n",
       "143712           Beyond the Sky - Alpha Demo  Iperurania Arts   \n",
       "147759                               SpezMan       JakubSzark   \n",
       "136725                                Keploo       KeplooGame   \n",
       "144194                             Drip Drop           onyxgo   \n",
       "138719  Martial Music Matchup by lilypadslul  lilypadslulling   \n",
       "\n",
       "                            creator url  \\\n",
       "156569          https://scnoobi.itch.io   \n",
       "334         https://ianmaclarty.itch.io   \n",
       "133968   https://olde-shipmates.itch.io   \n",
       "157833   https://lostchild14000.itch.io   \n",
       "158806          https://kroltan.itch.io   \n",
       "157011     https://mementomorey.itch.io   \n",
       "211065        https://alienplay.itch.io   \n",
       "523                   https://w.itch.io   \n",
       "143712   https://iperuraniaarts.itch.io   \n",
       "147759       https://jakubszark.itch.io   \n",
       "136725       https://keploogame.itch.io   \n",
       "144194           https://onyxgo.itch.io   \n",
       "138719  https://lilypadslulling.itch.io   \n",
       "\n",
       "                                                 game url  \n",
       "156569                  https://scnoobi.itch.io/gloryfire  \n",
       "334                   https://ianmaclarty.itch.io/boson-x  \n",
       "133968           https://olde-shipmates.itch.io/hardcrash  \n",
       "157833  https://lostchild14000.itch.io/nocturnal-rough...  \n",
       "158806           https://kroltan.itch.io/infnity-invaders  \n",
       "157011         https://mementomorey.itch.io/memento-morey  \n",
       "211065                   https://alienplay.itch.io/jumper  \n",
       "523                          https://w.itch.io/star-wench  \n",
       "143712      https://iperuraniaarts.itch.io/beyond-the-sky  \n",
       "147759                 https://jakubszark.itch.io/spezman  \n",
       "136725                  https://keploogame.itch.io/keploo  \n",
       "144194                   https://onyxgo.itch.io/drip-drop  \n",
       "138719  https://lilypadslulling.itch.io/martial-music-...  "
      ]
     },
     "execution_count": 9,
     "metadata": {},
     "output_type": "execute_result"
    }
   ],
   "source": [
    "g_info_df"
   ]
  },
  {
   "cell_type": "code",
   "execution_count": 10,
   "metadata": {},
   "outputs": [],
   "source": [
    "pickle_name = 'comments_data.pkl'\n",
    "csv_name = 'data/game_info.csv'\n",
    "\n",
    "#pf_df.to_pickle(pickle_name)\n",
    "g_info_df.to_csv(csv_name, sep='\\t', encoding='utf-8')\n",
    "\n",
    "# a 10000 line csv is 9.1MB"
   ]
  },
  {
   "cell_type": "code",
   "execution_count": null,
   "metadata": {},
   "outputs": [],
   "source": []
  },
  {
   "cell_type": "code",
   "execution_count": null,
   "metadata": {},
   "outputs": [],
   "source": []
  }
 ],
 "metadata": {
  "kernelspec": {
   "display_name": "Python 3",
   "language": "python",
   "name": "python3"
  },
  "language_info": {
   "codemirror_mode": {
    "name": "ipython",
    "version": 3
   },
   "file_extension": ".py",
   "mimetype": "text/x-python",
   "name": "python",
   "nbconvert_exporter": "python",
   "pygments_lexer": "ipython3",
   "version": "3.6.4"
  }
 },
 "nbformat": 4,
 "nbformat_minor": 2
}
