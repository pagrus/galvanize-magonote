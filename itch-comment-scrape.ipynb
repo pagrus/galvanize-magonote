{
 "cells": [
  {
   "cell_type": "code",
   "execution_count": 1,
   "metadata": {},
   "outputs": [],
   "source": [
    "import pandas as pd\n",
    "import numpy as np\n",
    "from bs4 import BeautifulSoup as bs\n",
    "import os\n",
    "import pickle\n",
    "import re"
   ]
  },
  {
   "cell_type": "code",
   "execution_count": 2,
   "metadata": {},
   "outputs": [],
   "source": [
    "# comments have already been downloaded (using curl)\n",
    "# and are in html/post_pages/\n",
    "# there are about 400,000 of them\n",
    "\n",
    "# we want to get:\n",
    "# game name\n",
    "# game id if available\n",
    "# post author name\n",
    "# post author id\n",
    "# post content\n",
    "# post length\n",
    "# timestamp\n",
    "# anything else???\n",
    "\n",
    "post_dir = 'html/post_pages'"
   ]
  },
  {
   "cell_type": "code",
   "execution_count": 3,
   "metadata": {},
   "outputs": [],
   "source": [
    "def info_from_game_post_file(file):\n",
    "    pid_l = re.findall(r'\\d+', file)\n",
    "    pid = pid_l[0]\n",
    "    did = 'post-' + pid\n",
    "    # print(did)\n",
    "    with open (file, 'r') as fh:\n",
    "        rt = fh.read()\n",
    "    soup = bs(rt, \"lxml\")\n",
    "    dclass = \"post_content\"\n",
    "    div = soup.find('div', id=did)\n",
    "    dtag = soup.div\n",
    "    sdiv = dtag.attrs\n",
    "    print(sdiv)"
   ]
  },
  {
   "cell_type": "code",
   "execution_count": 4,
   "metadata": {},
   "outputs": [
    {
     "name": "stdout",
     "output_type": "stream",
     "text": [
      "{'id': 'header_widget_61163', 'class': ['header_widget']}\n",
      "None\n"
     ]
    }
   ],
   "source": [
    "print(info_from_game_post_file('html/post_pages/435.html'))"
   ]
  },
  {
   "cell_type": "code",
   "execution_count": null,
   "metadata": {},
   "outputs": [],
   "source": []
  }
 ],
 "metadata": {
  "kernelspec": {
   "display_name": "Python 3",
   "language": "python",
   "name": "python3"
  },
  "language_info": {
   "codemirror_mode": {
    "name": "ipython",
    "version": 3
   },
   "file_extension": ".py",
   "mimetype": "text/x-python",
   "name": "python",
   "nbconvert_exporter": "python",
   "pygments_lexer": "ipython3",
   "version": "3.6.4"
  }
 },
 "nbformat": 4,
 "nbformat_minor": 2
}
